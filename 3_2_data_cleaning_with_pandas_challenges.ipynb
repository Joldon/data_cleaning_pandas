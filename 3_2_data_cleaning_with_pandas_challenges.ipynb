{
  "cells": [
    {
      "cell_type": "markdown",
      "metadata": {
        "id": "kYo4UvcCvkUs"
      },
      "source": [
        "# Data Cleaning with Pandas\n",
        "\n",
        "In this notebook we'll go through a few basic data cleaning steps that should be performed on all new datasets where necessary.\n",
        "\n",
        "We'll go through the process with both the `orders` and `orderlines` datasets. You can then practice these skills by cleaning the `products` dataset yourself"
      ]
    },
    {
      "cell_type": "code",
      "execution_count": 21,
      "metadata": {
        "id": "FgRIdUs1vcZ8"
      },
      "outputs": [],
      "source": [
        "import pandas as pd"
      ]
    },
    {
      "cell_type": "code",
      "execution_count": 22,
      "metadata": {
        "id": "_87JoNgVviOG"
      },
      "outputs": [],
      "source": [
        "# orders.csv\n",
        "url = \"https://drive.google.com/file/d/1Vu0q91qZw6lqhIqbjoXYvYAQTmVHh6uZ/view?usp=sharing\" \n",
        "path = \"https://drive.google.com/uc?export=download&id=\"+url.split(\"/\")[-2]\n",
        "orders = pd.read_csv(path)\n",
        "\n",
        "# orderlines.csv\n",
        "url = \"https://drive.google.com/file/d/1FYhN_2AzTBFuWcfHaRuKcuCE6CWXsWtG/view?usp=sharing\" \n",
        "path = \"https://drive.google.com/uc?export=download&id=\"+url.split(\"/\")[-2]\n",
        "orderlines = pd.read_csv(path)"
      ]
    },
    {
      "cell_type": "markdown",
      "metadata": {
        "id": "fVLitYX1yhc6"
      },
      "source": [
        "One of the best ways to begin data cleaning is by exploring using `.info()`. This will tell us:\n",
        "* The shape of the DataFrame\n",
        "* The names of the columns\n",
        "* If there are any missing values\n",
        "* The datatypes of the columns\n",
        "\n",
        "By exploring the missing values and correcting any incorrect datatypes, we often come across inconsistencies in our data.\n",
        "\n",
        "Beyond this, we should also have a **check for any duplicate rows**. \n",
        "\n",
        "Let's first deal with the duplicates, as it's nice and easy, then we'll explore what `.info()` has to tell us."
      ]
    },
    {
      "cell_type": "markdown",
      "metadata": {
        "id": "036ciQ6rwBJm"
      },
      "source": [
        "## 1.&nbsp; Duplicates\n",
        "We can check for duplicates using the pandas [.duplicated()](https://pandas.pydata.org/docs/reference/api/pandas.DataFrame.duplicated.html) method. \n",
        "\n",
        "We can then delete these rows, if we wish, using [.drop_duplicates()](https://pandas.pydata.org/docs/reference/api/pandas.DataFrame.drop_duplicates.html)"
      ]
    },
    {
      "cell_type": "code",
      "execution_count": 23,
      "metadata": {
        "colab": {
          "base_uri": "https://localhost:8080/"
        },
        "id": "6dVkoUu7wC-b",
        "outputId": "131cb638-de91-46af-9c3b-ade5d17c9fd3"
      },
      "outputs": [
        {
          "data": {
            "text/plain": [
              "0"
            ]
          },
          "execution_count": 23,
          "metadata": {},
          "output_type": "execute_result"
        }
      ],
      "source": [
        "# orders\n",
        "orders.duplicated().sum()"
      ]
    },
    {
      "cell_type": "code",
      "execution_count": 24,
      "metadata": {
        "colab": {
          "base_uri": "https://localhost:8080/"
        },
        "id": "iaeAQB_3whli",
        "outputId": "bd0ea451-04ed-4bee-8c53-49ac33af6adb"
      },
      "outputs": [
        {
          "data": {
            "text/plain": [
              "0"
            ]
          },
          "execution_count": 24,
          "metadata": {},
          "output_type": "execute_result"
        }
      ],
      "source": [
        "# orderlines\n",
        "orderlines.duplicated().sum()"
      ]
    },
    {
      "cell_type": "markdown",
      "metadata": {
        "id": "3LbnJquF0vRe"
      },
      "source": [
        "We have no duplicate rows in either DataFrame. Easy, there is no problem to solve. Normally though, if there were some duplicates, we'd drop the extra rows."
      ]
    },
    {
      "cell_type": "markdown",
      "metadata": {
        "id": "9lX7YbHlzoEO"
      },
      "source": [
        "# 2.&nbsp; `.info()`"
      ]
    },
    {
      "cell_type": "code",
      "execution_count": 25,
      "metadata": {
        "colab": {
          "base_uri": "https://localhost:8080/"
        },
        "id": "_AAsMOTS2L9r",
        "outputId": "c423a12a-0a00-4d03-c66d-246521813cb6"
      },
      "outputs": [
        {
          "name": "stdout",
          "output_type": "stream",
          "text": [
            "<class 'pandas.core.frame.DataFrame'>\n",
            "RangeIndex: 226909 entries, 0 to 226908\n",
            "Data columns (total 4 columns):\n",
            " #   Column        Non-Null Count   Dtype  \n",
            "---  ------        --------------   -----  \n",
            " 0   order_id      226909 non-null  int64  \n",
            " 1   created_date  226909 non-null  object \n",
            " 2   total_paid    226904 non-null  float64\n",
            " 3   state         226909 non-null  object \n",
            "dtypes: float64(1), int64(1), object(2)\n",
            "memory usage: 6.9+ MB\n"
          ]
        }
      ],
      "source": [
        "orders.info()"
      ]
    },
    {
      "cell_type": "markdown",
      "metadata": {
        "id": "Txm3Bv952UCb"
      },
      "source": [
        "* `total_paid` has 5 missing values\n",
        "* `created_date` should become datetime datatype"
      ]
    },
    {
      "cell_type": "code",
      "execution_count": 26,
      "metadata": {
        "colab": {
          "base_uri": "https://localhost:8080/"
        },
        "id": "kvDA-z032Rm2",
        "outputId": "ed673a08-3c6c-4d78-9452-2d6339c2a869"
      },
      "outputs": [
        {
          "name": "stdout",
          "output_type": "stream",
          "text": [
            "<class 'pandas.core.frame.DataFrame'>\n",
            "RangeIndex: 293983 entries, 0 to 293982\n",
            "Data columns (total 7 columns):\n",
            " #   Column            Non-Null Count   Dtype \n",
            "---  ------            --------------   ----- \n",
            " 0   id                293983 non-null  int64 \n",
            " 1   id_order          293983 non-null  int64 \n",
            " 2   product_id        293983 non-null  int64 \n",
            " 3   product_quantity  293983 non-null  int64 \n",
            " 4   sku               293983 non-null  object\n",
            " 5   unit_price        293983 non-null  object\n",
            " 6   date              293983 non-null  object\n",
            "dtypes: int64(4), object(3)\n",
            "memory usage: 15.7+ MB\n"
          ]
        }
      ],
      "source": [
        "orderlines.info()"
      ]
    },
    {
      "cell_type": "markdown",
      "metadata": {
        "id": "iLSpYm1G2sPD"
      },
      "source": [
        "* `date` should be a datetime datatype\n",
        "* `unit_price` should be a float datatype"
      ]
    },
    {
      "cell_type": "markdown",
      "metadata": {
        "id": "MlwJt5c-wiQh"
      },
      "source": [
        "## 3.&nbsp; Missing values"
      ]
    },
    {
      "cell_type": "markdown",
      "metadata": {
        "id": "63eKHGzJwkuT"
      },
      "source": [
        "### 3.1.&nbsp; Orders\n",
        "* `total_paid` has 5 missing values"
      ]
    },
    {
      "cell_type": "code",
      "execution_count": 27,
      "metadata": {
        "id": "Yh81k3ppwl37"
      },
      "outputs": [
        {
          "name": "stdout",
          "output_type": "stream",
          "text": [
            "5 missing values represents 0.0022% of the rows in our DataFrame\n"
          ]
        }
      ],
      "source": [
        "print(f\"5 missing values represents {((orders.total_paid.isna().sum() / orders.shape[0])*100).round(5)}% of the rows in our DataFrame\")"
      ]
    },
    {
      "cell_type": "markdown",
      "metadata": {
        "id": "8B7GYG3ZZWC1"
      },
      "source": [
        "A quick way to find out a percentage here, if you don't need to print out a sentence for yourself/students/colleagues is `.value_count(normalize=True)`"
      ]
    },
    {
      "cell_type": "code",
      "execution_count": 28,
      "metadata": {
        "colab": {
          "base_uri": "https://localhost:8080/"
        },
        "id": "zjkDrufyZZQi",
        "outputId": "b8aabf3a-0547-4227-ea3a-a09a8b4410e3"
      },
      "outputs": [
        {
          "data": {
            "text/plain": [
              "False    0.999978\n",
              "True     0.000022\n",
              "Name: total_paid, dtype: float64"
            ]
          },
          "execution_count": 28,
          "metadata": {},
          "output_type": "execute_result"
        }
      ],
      "source": [
        "orders.total_paid.isna().value_counts(normalize=True)"
      ]
    },
    {
      "cell_type": "markdown",
      "metadata": {
        "id": "eMW6J-4v_iVM"
      },
      "source": [
        "As there is such a tiny amount of missing values, we will simply delete these rows, as we have enough data without them."
      ]
    },
    {
      "cell_type": "code",
      "execution_count": 29,
      "metadata": {
        "id": "ohcl2Pb2B_Ch"
      },
      "outputs": [],
      "source": [
        "orders = orders.loc[~orders.total_paid.isna(), :]"
      ]
    },
    {
      "cell_type": "markdown",
      "metadata": {
        "id": "AIWAR4xI_3jv"
      },
      "source": [
        "Should you have a significant number of missing values in the future, you have a choice: \n",
        "+ you can impute the values\n",
        "+ you can take the values from other DataFrames, if they are present there\n",
        "+ you can delete the values\n",
        "+ or any number of other creative solutions\n",
        "\n",
        "Please, always consider how much time you have on your project, and what impact your method of choice will have on your final assesment."
      ]
    },
    {
      "cell_type": "markdown",
      "metadata": {
        "id": "nziIE3hbwmNa"
      },
      "source": [
        "### 3.2.&nbsp; Orderlines\n",
        "There are no missing values in `orderlines`"
      ]
    },
    {
      "cell_type": "markdown",
      "metadata": {
        "id": "_feog1aCwosJ"
      },
      "source": [
        "## 4.&nbsp; Datatypes"
      ]
    },
    {
      "cell_type": "markdown",
      "metadata": {
        "id": "wCJyQYkOwrBE"
      },
      "source": [
        "### 4.1.&nbsp; Orders\n",
        "* `created_date` should become datetime datatype"
      ]
    },
    {
      "cell_type": "code",
      "execution_count": 30,
      "metadata": {
        "id": "cF9roGlewr8j"
      },
      "outputs": [],
      "source": [
        "orders[\"created_date\"] = pd.to_datetime(orders[\"created_date\"])"
      ]
    },
    {
      "cell_type": "code",
      "execution_count": 31,
      "metadata": {
        "id": "3AlzlWZjiLa9"
      },
      "outputs": [
        {
          "name": "stdout",
          "output_type": "stream",
          "text": [
            "<class 'pandas.core.frame.DataFrame'>\n",
            "Int64Index: 226904 entries, 0 to 226908\n",
            "Data columns (total 4 columns):\n",
            " #   Column        Non-Null Count   Dtype         \n",
            "---  ------        --------------   -----         \n",
            " 0   order_id      226904 non-null  int64         \n",
            " 1   created_date  226904 non-null  datetime64[ns]\n",
            " 2   total_paid    226904 non-null  float64       \n",
            " 3   state         226904 non-null  object        \n",
            "dtypes: datetime64[ns](1), float64(1), int64(1), object(1)\n",
            "memory usage: 8.7+ MB\n"
          ]
        }
      ],
      "source": [
        "orders.info()"
      ]
    },
    {
      "cell_type": "markdown",
      "metadata": {
        "id": "osvynBTNwsin"
      },
      "source": [
        "### 4.1.&nbsp; Orderlines\n",
        "* `date` should be a datetime datatype\n",
        "* `unit_price` should be a float datatype"
      ]
    },
    {
      "cell_type": "markdown",
      "metadata": {
        "id": "PJcuKn8K06Yd"
      },
      "source": [
        "#### 4.1.1.&nbsp; `date`"
      ]
    },
    {
      "cell_type": "code",
      "execution_count": 32,
      "metadata": {
        "id": "FnXgRKERwtvS"
      },
      "outputs": [],
      "source": [
        "orderlines[\"date\"] = pd.to_datetime(orderlines[\"date\"])"
      ]
    },
    {
      "cell_type": "code",
      "execution_count": 33,
      "metadata": {},
      "outputs": [
        {
          "name": "stdout",
          "output_type": "stream",
          "text": [
            "<class 'pandas.core.frame.DataFrame'>\n",
            "RangeIndex: 293983 entries, 0 to 293982\n",
            "Data columns (total 7 columns):\n",
            " #   Column            Non-Null Count   Dtype         \n",
            "---  ------            --------------   -----         \n",
            " 0   id                293983 non-null  int64         \n",
            " 1   id_order          293983 non-null  int64         \n",
            " 2   product_id        293983 non-null  int64         \n",
            " 3   product_quantity  293983 non-null  int64         \n",
            " 4   sku               293983 non-null  object        \n",
            " 5   unit_price        293983 non-null  object        \n",
            " 6   date              293983 non-null  datetime64[ns]\n",
            "dtypes: datetime64[ns](1), int64(4), object(2)\n",
            "memory usage: 15.7+ MB\n"
          ]
        }
      ],
      "source": [
        "orderlines.info()"
      ]
    },
    {
      "cell_type": "markdown",
      "metadata": {
        "id": "F7i78NDY0-oF"
      },
      "source": [
        "#### 4.1.2.&nbsp;`unit_price`"
      ]
    },
    {
      "cell_type": "code",
      "execution_count": 34,
      "metadata": {
        "id": "iOFBNmuRDuGU"
      },
      "outputs": [
        {
          "ename": "ValueError",
          "evalue": "Unable to parse string \"1.137.99\" at position 6",
          "output_type": "error",
          "traceback": [
            "\u001b[0;31m---------------------------------------------------------------------------\u001b[0m",
            "\u001b[0;31mValueError\u001b[0m                                Traceback (most recent call last)",
            "\u001b[0;32m~/opt/anaconda3/lib/python3.9/site-packages/pandas/_libs/lib.pyx\u001b[0m in \u001b[0;36mpandas._libs.lib.maybe_convert_numeric\u001b[0;34m()\u001b[0m\n",
            "\u001b[0;31mValueError\u001b[0m: Unable to parse string \"1.137.99\"",
            "\nDuring handling of the above exception, another exception occurred:\n",
            "\u001b[0;31mValueError\u001b[0m                                Traceback (most recent call last)",
            "\u001b[0;32m/var/folders/fv/j2glptx96zv4jxc02f5d5ff40000gn/T/ipykernel_56730/3367724200.py\u001b[0m in \u001b[0;36m<module>\u001b[0;34m\u001b[0m\n\u001b[0;32m----> 1\u001b[0;31m \u001b[0morderlines\u001b[0m\u001b[0;34m[\u001b[0m\u001b[0;34m\"unit_price\"\u001b[0m\u001b[0;34m]\u001b[0m \u001b[0;34m=\u001b[0m \u001b[0mpd\u001b[0m\u001b[0;34m.\u001b[0m\u001b[0mto_numeric\u001b[0m\u001b[0;34m(\u001b[0m\u001b[0morderlines\u001b[0m\u001b[0;34m[\u001b[0m\u001b[0;34m\"unit_price\"\u001b[0m\u001b[0;34m]\u001b[0m\u001b[0;34m)\u001b[0m\u001b[0;34m\u001b[0m\u001b[0;34m\u001b[0m\u001b[0m\n\u001b[0m",
            "\u001b[0;32m~/opt/anaconda3/lib/python3.9/site-packages/pandas/core/tools/numeric.py\u001b[0m in \u001b[0;36mto_numeric\u001b[0;34m(arg, errors, downcast)\u001b[0m\n\u001b[1;32m    182\u001b[0m         \u001b[0mcoerce_numeric\u001b[0m \u001b[0;34m=\u001b[0m \u001b[0merrors\u001b[0m \u001b[0;32mnot\u001b[0m \u001b[0;32min\u001b[0m \u001b[0;34m(\u001b[0m\u001b[0;34m\"ignore\"\u001b[0m\u001b[0;34m,\u001b[0m \u001b[0;34m\"raise\"\u001b[0m\u001b[0;34m)\u001b[0m\u001b[0;34m\u001b[0m\u001b[0;34m\u001b[0m\u001b[0m\n\u001b[1;32m    183\u001b[0m         \u001b[0;32mtry\u001b[0m\u001b[0;34m:\u001b[0m\u001b[0;34m\u001b[0m\u001b[0;34m\u001b[0m\u001b[0m\n\u001b[0;32m--> 184\u001b[0;31m             values, _ = lib.maybe_convert_numeric(\n\u001b[0m\u001b[1;32m    185\u001b[0m                 \u001b[0mvalues\u001b[0m\u001b[0;34m,\u001b[0m \u001b[0mset\u001b[0m\u001b[0;34m(\u001b[0m\u001b[0;34m)\u001b[0m\u001b[0;34m,\u001b[0m \u001b[0mcoerce_numeric\u001b[0m\u001b[0;34m=\u001b[0m\u001b[0mcoerce_numeric\u001b[0m\u001b[0;34m\u001b[0m\u001b[0;34m\u001b[0m\u001b[0m\n\u001b[1;32m    186\u001b[0m             )\n",
            "\u001b[0;32m~/opt/anaconda3/lib/python3.9/site-packages/pandas/_libs/lib.pyx\u001b[0m in \u001b[0;36mpandas._libs.lib.maybe_convert_numeric\u001b[0;34m()\u001b[0m\n",
            "\u001b[0;31mValueError\u001b[0m: Unable to parse string \"1.137.99\" at position 6"
          ]
        }
      ],
      "source": [
        "orderlines[\"unit_price\"] = pd.to_numeric(orderlines[\"unit_price\"])"
      ]
    },
    {
      "cell_type": "markdown",
      "metadata": {
        "id": "xEqhP5RFSmRi"
      },
      "source": [
        "As you can see when we try to convert `unit_price` to a numerical datatype, we receive a `ValueError` telling us that pandas doesn't understand the number `1.137.99`. This is probably because numbers cannot have 2 decimal points. Let's see if there are any other numbers like this."
      ]
    },
    {
      "cell_type": "code",
      "execution_count": null,
      "metadata": {
        "id": "ONy-oCt0SkrR"
      },
      "outputs": [],
      "source": [
        "orderlines.unit_price.str.contains(\"\\d+\\.\\d+\\.\\d+\").value_counts()"
      ]
    },
    {
      "cell_type": "code",
      "execution_count": null,
      "metadata": {
        "id": "7pKTIwziiXr2"
      },
      "outputs": [],
      "source": [
        "#hulya\n",
        "# extract numeric values (without dots)\n",
        "#extract from Alpha numeric column just numeric values\n",
        "df_products=products\n",
        "df_products\n",
        "df_products['price_extracted']=df_products.price.str.extract('([-+]?\\d*\\.?\\d+)')\n",
        "df_products['price_extracted']=df_products['price_extracted'].astype(float)\n",
        "df_products.dtypes\n",
        "df_products.head(10)"
      ]
    },
    {
      "cell_type": "markdown",
      "metadata": {
        "id": "HSUPvFJU6Jv-"
      },
      "source": [
        "Looks like over 36000 rows in `orderlines` are affected by this problem. Let's work out how much that is as a percentage of our total data."
      ]
    },
    {
      "cell_type": "code",
      "execution_count": null,
      "metadata": {
        "id": "r75Rm1EgVjpi"
      },
      "outputs": [
        {
          "name": "stdout",
          "output_type": "stream",
          "text": [
            "The 2 dot problem represents 12.3% of the rows in our DataFrame\n"
          ]
        }
      ],
      "source": [
        "# this line calulates the percentage of rows with the 2 dot problem\n",
        "two_dot_percentage = ((orderlines.unit_price.str.contains(\"\\d+\\.\\d+\\.\\d+\").value_counts()[1] / orderlines.shape[0])*100).round(2)\n",
        "print(f\"The 2 dot problem represents {two_dot_percentage}% of the rows in our DataFrame\")"
      ]
    },
    {
      "cell_type": "markdown",
      "metadata": {
        "id": "5Kp9_4pqeu5J"
      },
      "source": [
        "This is a bit of a tricky decision as 12.3% is a significant amount of our data... and we might even end up losing a larger portion of our data than this too. For the moment we will delete the rows as we only have 2 weeks for this project and I'd like some quick, accurate results to show. If we have time at the end, we can come back and investigate this problem further, maybe there's a solution?\n",
        "\n",
        "Each row of `orderlines` represents a product in an order. For example, if order number 175 contained 3 seperate products, then order 175 would have 3 rows in `orderlines`, one row for each of the products. If 2 of those products have 'normal' prices (14.99, 15.85) and 1 has a price with 2 decimal points (1.137.99), we need to remove the whole order and not just the affected row. If we only remove the row with 2 decimal places then any later analysis about products and prices could be misleading.\n",
        "\n",
        "We therefore need to find the order numbers associated with the rows that have 2 decimal points, and then remove all the associated rows."
      ]
    },
    {
      "cell_type": "code",
      "execution_count": null,
      "metadata": {
        "id": "wQnSe-n1WCqv"
      },
      "outputs": [],
      "source": [
        "# this line of code will return the order ids that have the 2 dot problem\n",
        "two_dot_order_ids_list = orderlines.loc[orderlines.unit_price.str.contains(\"\\d+\\.\\d+\\.\\d+\"), \"id_order\"]\n"
      ]
    },
    {
      "cell_type": "code",
      "execution_count": null,
      "metadata": {},
      "outputs": [],
      "source": [
        "# this line of code will remove the rows that have the 2 dot problem\n",
        "orderlines = orderlines.loc[~orderlines.id_order.isin(two_dot_order_ids_list)]"
      ]
    },
    {
      "cell_type": "code",
      "execution_count": null,
      "metadata": {},
      "outputs": [
        {
          "data": {
            "text/html": [
              "<div>\n",
              "<style scoped>\n",
              "    .dataframe tbody tr th:only-of-type {\n",
              "        vertical-align: middle;\n",
              "    }\n",
              "\n",
              "    .dataframe tbody tr th {\n",
              "        vertical-align: top;\n",
              "    }\n",
              "\n",
              "    .dataframe thead th {\n",
              "        text-align: right;\n",
              "    }\n",
              "</style>\n",
              "<table border=\"1\" class=\"dataframe\">\n",
              "  <thead>\n",
              "    <tr style=\"text-align: right;\">\n",
              "      <th></th>\n",
              "      <th>order_id</th>\n",
              "      <th>created_date</th>\n",
              "      <th>total_paid</th>\n",
              "      <th>state</th>\n",
              "    </tr>\n",
              "  </thead>\n",
              "  <tbody>\n",
              "    <tr>\n",
              "      <th>0</th>\n",
              "      <td>241319</td>\n",
              "      <td>2017-01-02 13:35:40</td>\n",
              "      <td>44.99</td>\n",
              "      <td>Cancelled</td>\n",
              "    </tr>\n",
              "    <tr>\n",
              "      <th>1</th>\n",
              "      <td>241423</td>\n",
              "      <td>2017-11-06 13:10:02</td>\n",
              "      <td>136.15</td>\n",
              "      <td>Completed</td>\n",
              "    </tr>\n",
              "    <tr>\n",
              "      <th>2</th>\n",
              "      <td>242832</td>\n",
              "      <td>2017-12-31 17:40:03</td>\n",
              "      <td>15.76</td>\n",
              "      <td>Completed</td>\n",
              "    </tr>\n",
              "    <tr>\n",
              "      <th>3</th>\n",
              "      <td>243330</td>\n",
              "      <td>2017-02-16 10:59:38</td>\n",
              "      <td>84.98</td>\n",
              "      <td>Completed</td>\n",
              "    </tr>\n",
              "    <tr>\n",
              "      <th>4</th>\n",
              "      <td>243784</td>\n",
              "      <td>2017-11-24 13:35:19</td>\n",
              "      <td>157.86</td>\n",
              "      <td>Cancelled</td>\n",
              "    </tr>\n",
              "    <tr>\n",
              "      <th>5</th>\n",
              "      <td>245275</td>\n",
              "      <td>2017-06-28 11:35:37</td>\n",
              "      <td>149.00</td>\n",
              "      <td>Completed</td>\n",
              "    </tr>\n",
              "    <tr>\n",
              "      <th>6</th>\n",
              "      <td>245595</td>\n",
              "      <td>2017-01-21 12:52:47</td>\n",
              "      <td>112.97</td>\n",
              "      <td>Completed</td>\n",
              "    </tr>\n",
              "    <tr>\n",
              "      <th>7</th>\n",
              "      <td>245851</td>\n",
              "      <td>2017-04-04 20:58:21</td>\n",
              "      <td>79.99</td>\n",
              "      <td>Pending</td>\n",
              "    </tr>\n",
              "    <tr>\n",
              "      <th>8</th>\n",
              "      <td>245941</td>\n",
              "      <td>2017-01-01 10:32:23</td>\n",
              "      <td>183.52</td>\n",
              "      <td>Completed</td>\n",
              "    </tr>\n",
              "    <tr>\n",
              "      <th>9</th>\n",
              "      <td>246018</td>\n",
              "      <td>2017-02-13 23:02:57</td>\n",
              "      <td>211.95</td>\n",
              "      <td>Completed</td>\n",
              "    </tr>\n",
              "  </tbody>\n",
              "</table>\n",
              "</div>"
            ],
            "text/plain": [
              "   order_id        created_date  total_paid      state\n",
              "0    241319 2017-01-02 13:35:40       44.99  Cancelled\n",
              "1    241423 2017-11-06 13:10:02      136.15  Completed\n",
              "2    242832 2017-12-31 17:40:03       15.76  Completed\n",
              "3    243330 2017-02-16 10:59:38       84.98  Completed\n",
              "4    243784 2017-11-24 13:35:19      157.86  Cancelled\n",
              "5    245275 2017-06-28 11:35:37      149.00  Completed\n",
              "6    245595 2017-01-21 12:52:47      112.97  Completed\n",
              "7    245851 2017-04-04 20:58:21       79.99    Pending\n",
              "8    245941 2017-01-01 10:32:23      183.52  Completed\n",
              "9    246018 2017-02-13 23:02:57      211.95  Completed"
            ]
          },
          "execution_count": 19,
          "metadata": {},
          "output_type": "execute_result"
        }
      ],
      "source": [
        "orders.head(10)"
      ]
    },
    {
      "cell_type": "code",
      "execution_count": 18,
      "metadata": {},
      "outputs": [
        {
          "data": {
            "text/html": [
              "<div>\n",
              "<style scoped>\n",
              "    .dataframe tbody tr th:only-of-type {\n",
              "        vertical-align: middle;\n",
              "    }\n",
              "\n",
              "    .dataframe tbody tr th {\n",
              "        vertical-align: top;\n",
              "    }\n",
              "\n",
              "    .dataframe thead th {\n",
              "        text-align: right;\n",
              "    }\n",
              "</style>\n",
              "<table border=\"1\" class=\"dataframe\">\n",
              "  <thead>\n",
              "    <tr style=\"text-align: right;\">\n",
              "      <th></th>\n",
              "      <th>id</th>\n",
              "      <th>id_order</th>\n",
              "      <th>product_id</th>\n",
              "      <th>product_quantity</th>\n",
              "      <th>sku</th>\n",
              "      <th>unit_price</th>\n",
              "      <th>date</th>\n",
              "    </tr>\n",
              "  </thead>\n",
              "  <tbody>\n",
              "    <tr>\n",
              "      <th>0</th>\n",
              "      <td>1119109</td>\n",
              "      <td>299539</td>\n",
              "      <td>0</td>\n",
              "      <td>1</td>\n",
              "      <td>OTT0133</td>\n",
              "      <td>18.99</td>\n",
              "      <td>2017-01-01 00:07:19</td>\n",
              "    </tr>\n",
              "    <tr>\n",
              "      <th>1</th>\n",
              "      <td>1119110</td>\n",
              "      <td>299540</td>\n",
              "      <td>0</td>\n",
              "      <td>1</td>\n",
              "      <td>LGE0043</td>\n",
              "      <td>399.00</td>\n",
              "      <td>2017-01-01 00:19:45</td>\n",
              "    </tr>\n",
              "    <tr>\n",
              "      <th>2</th>\n",
              "      <td>1119111</td>\n",
              "      <td>299541</td>\n",
              "      <td>0</td>\n",
              "      <td>1</td>\n",
              "      <td>PAR0071</td>\n",
              "      <td>474.05</td>\n",
              "      <td>2017-01-01 00:20:57</td>\n",
              "    </tr>\n",
              "    <tr>\n",
              "      <th>3</th>\n",
              "      <td>1119112</td>\n",
              "      <td>299542</td>\n",
              "      <td>0</td>\n",
              "      <td>1</td>\n",
              "      <td>WDT0315</td>\n",
              "      <td>68.39</td>\n",
              "      <td>2017-01-01 00:51:40</td>\n",
              "    </tr>\n",
              "    <tr>\n",
              "      <th>4</th>\n",
              "      <td>1119113</td>\n",
              "      <td>299543</td>\n",
              "      <td>0</td>\n",
              "      <td>1</td>\n",
              "      <td>JBL0104</td>\n",
              "      <td>23.74</td>\n",
              "      <td>2017-01-01 01:06:38</td>\n",
              "    </tr>\n",
              "    <tr>\n",
              "      <th>5</th>\n",
              "      <td>1119114</td>\n",
              "      <td>295310</td>\n",
              "      <td>0</td>\n",
              "      <td>10</td>\n",
              "      <td>WDT0249</td>\n",
              "      <td>231.79</td>\n",
              "      <td>2017-01-01 01:14:27</td>\n",
              "    </tr>\n",
              "    <tr>\n",
              "      <th>6</th>\n",
              "      <td>1119115</td>\n",
              "      <td>299544</td>\n",
              "      <td>0</td>\n",
              "      <td>1</td>\n",
              "      <td>APP1582</td>\n",
              "      <td>1.137.99</td>\n",
              "      <td>2017-01-01 01:17:21</td>\n",
              "    </tr>\n",
              "    <tr>\n",
              "      <th>7</th>\n",
              "      <td>1119116</td>\n",
              "      <td>299545</td>\n",
              "      <td>0</td>\n",
              "      <td>1</td>\n",
              "      <td>OWC0100</td>\n",
              "      <td>47.49</td>\n",
              "      <td>2017-01-01 01:46:16</td>\n",
              "    </tr>\n",
              "    <tr>\n",
              "      <th>8</th>\n",
              "      <td>1119119</td>\n",
              "      <td>299546</td>\n",
              "      <td>0</td>\n",
              "      <td>1</td>\n",
              "      <td>IOT0014</td>\n",
              "      <td>18.99</td>\n",
              "      <td>2017-01-01 01:50:34</td>\n",
              "    </tr>\n",
              "    <tr>\n",
              "      <th>9</th>\n",
              "      <td>1119120</td>\n",
              "      <td>295347</td>\n",
              "      <td>0</td>\n",
              "      <td>1</td>\n",
              "      <td>APP0700</td>\n",
              "      <td>72.19</td>\n",
              "      <td>2017-01-01 01:54:11</td>\n",
              "    </tr>\n",
              "  </tbody>\n",
              "</table>\n",
              "</div>"
            ],
            "text/plain": [
              "        id  id_order  product_id  product_quantity      sku unit_price  \\\n",
              "0  1119109    299539           0                 1  OTT0133      18.99   \n",
              "1  1119110    299540           0                 1  LGE0043     399.00   \n",
              "2  1119111    299541           0                 1  PAR0071     474.05   \n",
              "3  1119112    299542           0                 1  WDT0315      68.39   \n",
              "4  1119113    299543           0                 1  JBL0104      23.74   \n",
              "5  1119114    295310           0                10  WDT0249     231.79   \n",
              "6  1119115    299544           0                 1  APP1582   1.137.99   \n",
              "7  1119116    299545           0                 1  OWC0100      47.49   \n",
              "8  1119119    299546           0                 1  IOT0014      18.99   \n",
              "9  1119120    295347           0                 1  APP0700      72.19   \n",
              "\n",
              "                 date  \n",
              "0 2017-01-01 00:07:19  \n",
              "1 2017-01-01 00:19:45  \n",
              "2 2017-01-01 00:20:57  \n",
              "3 2017-01-01 00:51:40  \n",
              "4 2017-01-01 01:06:38  \n",
              "5 2017-01-01 01:14:27  \n",
              "6 2017-01-01 01:17:21  \n",
              "7 2017-01-01 01:46:16  \n",
              "8 2017-01-01 01:50:34  \n",
              "9 2017-01-01 01:54:11  "
            ]
          },
          "execution_count": 18,
          "metadata": {},
          "output_type": "execute_result"
        }
      ],
      "source": [
        "orderlines.head(10)"
      ]
    },
    {
      "cell_type": "code",
      "execution_count": 36,
      "metadata": {},
      "outputs": [
        {
          "name": "stderr",
          "output_type": "stream",
          "text": [
            "/var/folders/fv/j2glptx96zv4jxc02f5d5ff40000gn/T/ipykernel_56730/1517171475.py:2: FutureWarning: The default value of regex will change from True to False in a future version.\n",
            "  replace_dots = orderlines.unit_price.copy().str.replace(\"\\.\", \"\", 1)\n"
          ]
        },
        {
          "data": {
            "text/plain": [
              "0        1899\n",
              "1       39900\n",
              "2       47405\n",
              "3        6839\n",
              "4        2374\n",
              "5       23179\n",
              "6     1137.99\n",
              "7        4749\n",
              "8        1899\n",
              "9        7219\n",
              "10       3514\n",
              "11    2565.99\n",
              "12      14914\n",
              "13       1699\n",
              "14       1999\n",
              "15    3278.99\n",
              "16       5984\n",
              "17      25649\n",
              "18       6090\n",
              "19       3799\n",
              "Name: unit_price, dtype: object"
            ]
          },
          "execution_count": 36,
          "metadata": {},
          "output_type": "execute_result"
        }
      ],
      "source": [
        "# column unit_price has following values(18.99, 399.00, 474.05, 1.137.99, , 2.345.23). Remove first dot only  in the values that have two dots. Keep dots in values that have only one dot.\n",
        "\n",
        "\n",
        "replace_dots = orderlines.unit_price.copy().str.replace(\"\\.\", \"\", 1)\n",
        "# orderlines.unit_price.str.replace(\"\\.\", \"\", 1).str.replace(\",\", \".\").astype(float)\n",
        "replace_dots.head(20)"
      ]
    },
    {
      "cell_type": "code",
      "execution_count": 37,
      "metadata": {},
      "outputs": [
        {
          "name": "stderr",
          "output_type": "stream",
          "text": [
            "/var/folders/fv/j2glptx96zv4jxc02f5d5ff40000gn/T/ipykernel_56730/2061687964.py:1: FutureWarning: The default value of regex will change from True to False in a future version.\n",
            "  replace_with_float = orderlines.unit_price.copy().str.replace(\"\\.\", \"\", 1).str.replace(\",\", \".\").astype(float)\n"
          ]
        },
        {
          "data": {
            "text/plain": [
              "0          1899.0\n",
              "1         39900.0\n",
              "2         47405.0\n",
              "3          6839.0\n",
              "4          2374.0\n",
              "           ...   \n",
              "293978     4299.0\n",
              "293979    14158.0\n",
              "293980      999.0\n",
              "293981     1999.0\n",
              "293982     1399.0\n",
              "Name: unit_price, Length: 293983, dtype: float64"
            ]
          },
          "execution_count": 37,
          "metadata": {},
          "output_type": "execute_result"
        }
      ],
      "source": [
        "replace_with_float = orderlines.unit_price.copy().str.replace(\"\\.\", \"\", 1).str.replace(\",\", \".\").astype(float)\n",
        "replace_with_float"
      ]
    },
    {
      "cell_type": "code",
      "execution_count": 38,
      "metadata": {},
      "outputs": [
        {
          "name": "stderr",
          "output_type": "stream",
          "text": [
            "/var/folders/fv/j2glptx96zv4jxc02f5d5ff40000gn/T/ipykernel_56730/2129408863.py:4: FutureWarning: The default value of regex will change from True to False in a future version.\n",
            "  orderlines.loc[filter_two_dots, \"unit_price\"] = orderlines.loc[filter_two_dots, \"unit_price\"].str.replace(\"\\.\", \"\", 1)\n"
          ]
        },
        {
          "data": {
            "text/plain": [
              "0       18.99\n",
              "1      399.00\n",
              "2      474.05\n",
              "3       68.39\n",
              "4       23.74\n",
              "5      231.79\n",
              "6     1137.99\n",
              "7       47.49\n",
              "8       18.99\n",
              "9       72.19\n",
              "10      35.14\n",
              "11    2565.99\n",
              "12     149.14\n",
              "13      16.99\n",
              "14      19.99\n",
              "15    3278.99\n",
              "16      59.84\n",
              "17     256.49\n",
              "18      60.90\n",
              "19      37.99\n",
              "Name: unit_price, dtype: object"
            ]
          },
          "execution_count": 38,
          "metadata": {},
          "output_type": "execute_result"
        }
      ],
      "source": [
        "# filter the rows that have 2 dots\n",
        "# replace the first dot with empty string\n",
        "filter_two_dots = orderlines.unit_price.str.contains(\"\\d+\\.\\d+\\.\\d+\")\n",
        "orderlines.loc[filter_two_dots, \"unit_price\"] = orderlines.loc[filter_two_dots, \"unit_price\"].str.replace(\"\\.\", \"\", 1)\n",
        "orderlines.unit_price.head(20)\n",
        "# orderlines.loc[filter_two_dots, \"unit_price\"] = orderlines.loc[filter_two_dots, \"unit_price\"].str.replace(\",\", \".\").astype(float)"
      ]
    },
    {
      "cell_type": "code",
      "execution_count": null,
      "metadata": {},
      "outputs": [],
      "source": []
    },
    {
      "cell_type": "code",
      "execution_count": null,
      "metadata": {},
      "outputs": [],
      "source": []
    },
    {
      "cell_type": "code",
      "execution_count": null,
      "metadata": {
        "colab": {
          "base_uri": "https://localhost:8080/"
        },
        "id": "k-GLzXuV0Ioj",
        "outputId": "d54c5e14-3e17-4c67-aa88-288ca3d1012f"
      },
      "outputs": [
        {
          "data": {
            "text/plain": [
              "216250"
            ]
          },
          "execution_count": 4,
          "metadata": {},
          "output_type": "execute_result"
        }
      ],
      "source": [
        "orderlines.shape[0]"
      ]
    },
    {
      "cell_type": "markdown",
      "metadata": {
        "id": "2pd5t4110iz3"
      },
      "source": [
        "We still have 216250 rows in orderlines to work with. This should be more than enough for our evaluation.\n",
        "\n",
        "Now that all of the 2 decimal point prices have been removed, let's try again to convert the column `unit_price` to the correct datatype."
      ]
    },
    {
      "cell_type": "code",
      "execution_count": null,
      "metadata": {
        "id": "Q4eDTAPs1HMZ"
      },
      "outputs": [],
      "source": [
        "orderlines[\"unit_price\"] = pd.to_numeric(orderlines[\"unit_price\"])"
      ]
    },
    {
      "cell_type": "markdown",
      "metadata": {
        "id": "sBudIQLm6oJQ"
      },
      "source": [
        "It worked perfectly"
      ]
    },
    {
      "cell_type": "markdown",
      "metadata": {
        "id": "1zGAzgIX8_-D"
      },
      "source": [
        "# Challenge: Clean the `products` DataFrame\n",
        "Now it's your turn. Use the lessons you learnt above and clean the products DataFrame. You don't have to copy exactly what we did. Think about the consequences of your actions, sometimes it is ok to delete rows, other times you may wish to come up with more creative solutions."
      ]
    },
    {
      "cell_type": "code",
      "execution_count": null,
      "metadata": {
        "id": "LtYqdFsa9KTS"
      },
      "outputs": [],
      "source": [
        "# products.csv\n",
        "url = \"https://drive.google.com/file/d/1afxwDXfl-7cQ_qLwyDitfcCx3u7WMvkU/view?usp=sharing\" \n",
        "path = \"https://drive.google.com/uc?export=download&id=\"+url.split(\"/\")[-2]\n",
        "products = pd.read_csv(path)"
      ]
    },
    {
      "cell_type": "code",
      "execution_count": null,
      "metadata": {
        "colab": {
          "base_uri": "https://localhost:8080/",
          "height": 1000
        },
        "id": "UW3zYoni9Vcy",
        "outputId": "aafc383e-b10b-41c3-9342-83c85dca819c"
      },
      "outputs": [
        {
          "data": {
            "text/html": [
              "\n",
              "  <div id=\"df-0201610c-a35a-495c-9963-73b9b2ab627a\">\n",
              "    <div class=\"colab-df-container\">\n",
              "      <div>\n",
              "<style scoped>\n",
              "    .dataframe tbody tr th:only-of-type {\n",
              "        vertical-align: middle;\n",
              "    }\n",
              "\n",
              "    .dataframe tbody tr th {\n",
              "        vertical-align: top;\n",
              "    }\n",
              "\n",
              "    .dataframe thead th {\n",
              "        text-align: right;\n",
              "    }\n",
              "</style>\n",
              "<table border=\"1\" class=\"dataframe\">\n",
              "  <thead>\n",
              "    <tr style=\"text-align: right;\">\n",
              "      <th></th>\n",
              "      <th>sku</th>\n",
              "      <th>name</th>\n",
              "      <th>desc</th>\n",
              "      <th>price</th>\n",
              "      <th>promo_price</th>\n",
              "      <th>in_stock</th>\n",
              "      <th>type</th>\n",
              "    </tr>\n",
              "  </thead>\n",
              "  <tbody>\n",
              "    <tr>\n",
              "      <th>0</th>\n",
              "      <td>RAI0007</td>\n",
              "      <td>Silver Rain Design mStand Support</td>\n",
              "      <td>Aluminum support compatible with all MacBook</td>\n",
              "      <td>59.99</td>\n",
              "      <td>499.899</td>\n",
              "      <td>1</td>\n",
              "      <td>8696</td>\n",
              "    </tr>\n",
              "    <tr>\n",
              "      <th>1</th>\n",
              "      <td>APP0023</td>\n",
              "      <td>Apple Mac Keyboard Keypad Spanish</td>\n",
              "      <td>USB ultrathin keyboard Apple Mac Spanish.</td>\n",
              "      <td>59</td>\n",
              "      <td>589.996</td>\n",
              "      <td>0</td>\n",
              "      <td>13855401</td>\n",
              "    </tr>\n",
              "    <tr>\n",
              "      <th>2</th>\n",
              "      <td>APP0025</td>\n",
              "      <td>Mighty Mouse Apple Mouse for Mac</td>\n",
              "      <td>mouse Apple USB cable.</td>\n",
              "      <td>59</td>\n",
              "      <td>569.898</td>\n",
              "      <td>0</td>\n",
              "      <td>1387</td>\n",
              "    </tr>\n",
              "    <tr>\n",
              "      <th>3</th>\n",
              "      <td>APP0072</td>\n",
              "      <td>Apple Dock to USB Cable iPhone and iPod white</td>\n",
              "      <td>IPhone dock and USB Cable Apple iPod.</td>\n",
              "      <td>25</td>\n",
              "      <td>229.997</td>\n",
              "      <td>0</td>\n",
              "      <td>1230</td>\n",
              "    </tr>\n",
              "    <tr>\n",
              "      <th>4</th>\n",
              "      <td>KIN0007</td>\n",
              "      <td>Mac Memory Kingston 2GB 667MHz DDR2 SO-DIMM</td>\n",
              "      <td>2GB RAM Mac mini and iMac (2006/07) MacBook Pr...</td>\n",
              "      <td>34.99</td>\n",
              "      <td>31.99</td>\n",
              "      <td>1</td>\n",
              "      <td>1364</td>\n",
              "    </tr>\n",
              "    <tr>\n",
              "      <th>5</th>\n",
              "      <td>APP0073</td>\n",
              "      <td>Apple Composite AV Cable iPhone and iPod white</td>\n",
              "      <td>IPhone and iPod AV Cable Dock to Composite Video.</td>\n",
              "      <td>45</td>\n",
              "      <td>420.003</td>\n",
              "      <td>0</td>\n",
              "      <td>1230</td>\n",
              "    </tr>\n",
              "    <tr>\n",
              "      <th>6</th>\n",
              "      <td>KIN0008</td>\n",
              "      <td>Mac Memory Kingston 1GB 667MHz DDR2 SO-DIMM</td>\n",
              "      <td>1GB RAM Mac mini and iMac (2006/07) MacBook Pr...</td>\n",
              "      <td>18.99</td>\n",
              "      <td>146.471</td>\n",
              "      <td>0</td>\n",
              "      <td>1364</td>\n",
              "    </tr>\n",
              "    <tr>\n",
              "      <th>7</th>\n",
              "      <td>KIN0009</td>\n",
              "      <td>Mac Memory Kingston 2GB 800MHz DDR2 SO-DIMM</td>\n",
              "      <td>2GB RAM iMac with Intel Core 2 Duo (Penryn).</td>\n",
              "      <td>36.99</td>\n",
              "      <td>274.694</td>\n",
              "      <td>0</td>\n",
              "      <td>1364</td>\n",
              "    </tr>\n",
              "    <tr>\n",
              "      <th>8</th>\n",
              "      <td>KIN0001-2</td>\n",
              "      <td>Mac memory Kingston 4GB (2x2GB) 667MHz DDR2 SO...</td>\n",
              "      <td>RAM 4GB (2x2GB) Mac mini and iMac (2006/07) Ma...</td>\n",
              "      <td>74</td>\n",
              "      <td>669.904</td>\n",
              "      <td>0</td>\n",
              "      <td>1364</td>\n",
              "    </tr>\n",
              "    <tr>\n",
              "      <th>9</th>\n",
              "      <td>APP0100</td>\n",
              "      <td>Apple Adapter Mini Display Port to VGA</td>\n",
              "      <td>Adapter Mini Display Port to VGA MacBook and M...</td>\n",
              "      <td>35</td>\n",
              "      <td>330.003</td>\n",
              "      <td>0</td>\n",
              "      <td>1325</td>\n",
              "    </tr>\n",
              "    <tr>\n",
              "      <th>10</th>\n",
              "      <td>APP0101</td>\n",
              "      <td>Apple Mini DisplayPort to DVI Adapter</td>\n",
              "      <td>Adapter mini DisplayPort to DVI MacBook and Ma...</td>\n",
              "      <td>35</td>\n",
              "      <td>330.003</td>\n",
              "      <td>0</td>\n",
              "      <td>1325</td>\n",
              "    </tr>\n",
              "    <tr>\n",
              "      <th>11</th>\n",
              "      <td>SEN0021</td>\n",
              "      <td>Sennheiser CX 300-II Precision headphones iPho...</td>\n",
              "      <td>Headphones iPhone iPad iPad 2 iPad 3 and iPod.</td>\n",
              "      <td>49.99</td>\n",
              "      <td>449.878</td>\n",
              "      <td>0</td>\n",
              "      <td>5384</td>\n",
              "    </tr>\n",
              "    <tr>\n",
              "      <th>12</th>\n",
              "      <td>APP0111</td>\n",
              "      <td>Apple USB Ethernet Adapter Mac</td>\n",
              "      <td>USB to Ethernet adapter Mac.</td>\n",
              "      <td>35</td>\n",
              "      <td>330.003</td>\n",
              "      <td>0</td>\n",
              "      <td>1334</td>\n",
              "    </tr>\n",
              "    <tr>\n",
              "      <th>13</th>\n",
              "      <td>APP0156</td>\n",
              "      <td>45W MagSafe charger Apple MacBook Air</td>\n",
              "      <td>Charger MacBook Air MagSafe 45 W (MC747Z / A).</td>\n",
              "      <td>89</td>\n",
              "      <td>849.904</td>\n",
              "      <td>0</td>\n",
              "      <td>13005399</td>\n",
              "    </tr>\n",
              "    <tr>\n",
              "      <th>14</th>\n",
              "      <td>MOS0013</td>\n",
              "      <td>Adapter Moshi FireWire 400 to FireWire 800</td>\n",
              "      <td>FireWire 400 adapter cable FireWire 800.</td>\n",
              "      <td>20</td>\n",
              "      <td>179.891</td>\n",
              "      <td>0</td>\n",
              "      <td>1325</td>\n",
              "    </tr>\n",
              "    <tr>\n",
              "      <th>15</th>\n",
              "      <td>MOS0021</td>\n",
              "      <td>Clearguard Moshi MacBook Pro and Air</td>\n",
              "      <td>Keyboard Protector MacBook Pro 13-inch Retina ...</td>\n",
              "      <td>24.95</td>\n",
              "      <td>249.889</td>\n",
              "      <td>0</td>\n",
              "      <td>13835403</td>\n",
              "    </tr>\n",
              "    <tr>\n",
              "      <th>16</th>\n",
              "      <td>APP0206</td>\n",
              "      <td>60W MagSafe charger Apple MacBook and MacBook ...</td>\n",
              "      <td>Charger MacBook and 13 inch MacBook MagSafe 60...</td>\n",
              "      <td>89</td>\n",
              "      <td>849.904</td>\n",
              "      <td>1</td>\n",
              "      <td>13005399</td>\n",
              "    </tr>\n",
              "    <tr>\n",
              "      <th>17</th>\n",
              "      <td>HGD0007</td>\n",
              "      <td>Henge Docks Docking Station MacBook Pro 13 \"</td>\n",
              "      <td>Dock and support with multiple connections for...</td>\n",
              "      <td>69.99</td>\n",
              "      <td>699.864</td>\n",
              "      <td>0</td>\n",
              "      <td>12995397</td>\n",
              "    </tr>\n",
              "    <tr>\n",
              "      <th>18</th>\n",
              "      <td>MUV0009</td>\n",
              "      <td>Muvit Back Clear Case iPhone 4 / 4S Transparent</td>\n",
              "      <td>Case iPhone 4 / 4S polycarbonate.</td>\n",
              "      <td>9.99</td>\n",
              "      <td>7.986</td>\n",
              "      <td>0</td>\n",
              "      <td>11865403</td>\n",
              "    </tr>\n",
              "    <tr>\n",
              "      <th>19</th>\n",
              "      <td>APP0234</td>\n",
              "      <td>Apple Dock Connector to VGA</td>\n",
              "      <td>Dock Connector to VGA IOS.</td>\n",
              "      <td>35</td>\n",
              "      <td>350.005</td>\n",
              "      <td>0</td>\n",
              "      <td>13955395</td>\n",
              "    </tr>\n",
              "    <tr>\n",
              "      <th>20</th>\n",
              "      <td>APP0247</td>\n",
              "      <td>85W MagSafe charger Apple MacBook Pro 15 \"/ 17\"</td>\n",
              "      <td>Charger MacBook Pro MagSafe 85 W (MC556Z / A).</td>\n",
              "      <td>89</td>\n",
              "      <td>849.904</td>\n",
              "      <td>1</td>\n",
              "      <td>13005399</td>\n",
              "    </tr>\n",
              "    <tr>\n",
              "      <th>21</th>\n",
              "      <td>APP0233</td>\n",
              "      <td>Apple iPad Camera Connection connector</td>\n",
              "      <td>IPad connector for digital cameras and SD cards.</td>\n",
              "      <td>35</td>\n",
              "      <td>349.896</td>\n",
              "      <td>0</td>\n",
              "      <td>13955395</td>\n",
              "    </tr>\n",
              "    <tr>\n",
              "      <th>22</th>\n",
              "      <td>JMO0014</td>\n",
              "      <td>Just Mobile Upstand iPad support</td>\n",
              "      <td>Support Retina iPad and iPad mini aluminum.</td>\n",
              "      <td>49.95</td>\n",
              "      <td>399.905</td>\n",
              "      <td>0</td>\n",
              "      <td>1216</td>\n",
              "    </tr>\n",
              "    <tr>\n",
              "      <th>23</th>\n",
              "      <td>MOB0007</td>\n",
              "      <td>Mobee Magic Charger Charger Magic Mouse</td>\n",
              "      <td>Wireless Charger for Magic Mouse</td>\n",
              "      <td>49.99</td>\n",
              "      <td>499.851</td>\n",
              "      <td>0</td>\n",
              "      <td>12355400</td>\n",
              "    </tr>\n",
              "    <tr>\n",
              "      <th>24</th>\n",
              "      <td>APP0277</td>\n",
              "      <td>Apple Wireless Keyboard Keyboard (OEM) Mac</td>\n",
              "      <td>Ultrathin keyboard Apple Bluetooth Spanish (un...</td>\n",
              "      <td>79</td>\n",
              "      <td>759.904</td>\n",
              "      <td>0</td>\n",
              "      <td>13855401</td>\n",
              "    </tr>\n",
              "    <tr>\n",
              "      <th>25</th>\n",
              "      <td>MOP0011</td>\n",
              "      <td>Mophie Juice Pack Air Battery Case iPhone 4 / ...</td>\n",
              "      <td>Battery Case iPhone 4 / 4S rigid polymer.</td>\n",
              "      <td>69.99</td>\n",
              "      <td>56.991</td>\n",
              "      <td>0</td>\n",
              "      <td>5,49E+11</td>\n",
              "    </tr>\n",
              "    <tr>\n",
              "      <th>26</th>\n",
              "      <td>APP0280</td>\n",
              "      <td>Apple HDMI to HDMI Cable 1.8m</td>\n",
              "      <td>HMDI to HDMI Cable 1.8m.</td>\n",
              "      <td>25</td>\n",
              "      <td>240.004</td>\n",
              "      <td>0</td>\n",
              "      <td>1325</td>\n",
              "    </tr>\n",
              "    <tr>\n",
              "      <th>27</th>\n",
              "      <td>OND0069</td>\n",
              "      <td>Adapter mini DVI to HDMI</td>\n",
              "      <td>Adapter mini DVI to HDMI for Mac and PC</td>\n",
              "      <td>16.49</td>\n",
              "      <td>149.895</td>\n",
              "      <td>0</td>\n",
              "      <td>1325</td>\n",
              "    </tr>\n",
              "    <tr>\n",
              "      <th>28</th>\n",
              "      <td>SNN0007</td>\n",
              "      <td>Sonnet Tempo SATA PCIe Mac and PC E2P</td>\n",
              "      <td>PCIe Card with 2 Serial ATA ports Mac and PC.</td>\n",
              "      <td>59.99</td>\n",
              "      <td>502.102</td>\n",
              "      <td>0</td>\n",
              "      <td>1276</td>\n",
              "    </tr>\n",
              "    <tr>\n",
              "      <th>29</th>\n",
              "      <td>KIN0025</td>\n",
              "      <td>Mac memory DIMM DDR3 2GB 1333MHz Kingston</td>\n",
              "      <td>2GB RAM Mac Pro (July 2010).</td>\n",
              "      <td>29.99</td>\n",
              "      <td>179.903</td>\n",
              "      <td>0</td>\n",
              "      <td>1364</td>\n",
              "    </tr>\n",
              "    <tr>\n",
              "      <th>30</th>\n",
              "      <td>OND0073</td>\n",
              "      <td>Mini DisplayPort to HDMI Cable 18m</td>\n",
              "      <td>Cable with Mini DisplayPort to HDMI (audio + v...</td>\n",
              "      <td>22.99</td>\n",
              "      <td>169.896</td>\n",
              "      <td>0</td>\n",
              "      <td>1325</td>\n",
              "    </tr>\n",
              "    <tr>\n",
              "      <th>31</th>\n",
              "      <td>MOS0042</td>\n",
              "      <td>Adapter Moshi Mini Display Port to VGA</td>\n",
              "      <td>Cable Adapter Mini Display Port to VGA.</td>\n",
              "      <td>34.99</td>\n",
              "      <td>269.903</td>\n",
              "      <td>0</td>\n",
              "      <td>1325</td>\n",
              "    </tr>\n",
              "    <tr>\n",
              "      <th>32</th>\n",
              "      <td>BEL0070</td>\n",
              "      <td>Music Receiver Belkin iPhone music receiver</td>\n",
              "      <td>Music Receiver iPhone iPad and iPod Touch for ...</td>\n",
              "      <td>49.99</td>\n",
              "      <td>299.899</td>\n",
              "      <td>0</td>\n",
              "      <td>11905404</td>\n",
              "    </tr>\n",
              "    <tr>\n",
              "      <th>33</th>\n",
              "      <td>LMP0007</td>\n",
              "      <td>KeyPad LMP Bluetooth Keypad Mac</td>\n",
              "      <td>expansion keypad Mac with bluetooth connection.</td>\n",
              "      <td>54.99</td>\n",
              "      <td>399.905</td>\n",
              "      <td>1</td>\n",
              "      <td>13855401</td>\n",
              "    </tr>\n",
              "    <tr>\n",
              "      <th>34</th>\n",
              "      <td>TWS0019</td>\n",
              "      <td>Twelve South MagicWand support Apple Magic Tra...</td>\n",
              "      <td>MagicWand for wireless keyboard and Magic Trac...</td>\n",
              "      <td>NaN</td>\n",
              "      <td>299.899</td>\n",
              "      <td>0</td>\n",
              "      <td>8696</td>\n",
              "    </tr>\n",
              "    <tr>\n",
              "      <th>35</th>\n",
              "      <td>BEL0072</td>\n",
              "      <td>Belkin PRO Series USB 2.0 Cable 18M</td>\n",
              "      <td>USB Cable USB type A and type B 18m in length ...</td>\n",
              "      <td>3.99</td>\n",
              "      <td>29.899</td>\n",
              "      <td>1</td>\n",
              "      <td>1325</td>\n",
              "    </tr>\n",
              "    <tr>\n",
              "      <th>36</th>\n",
              "      <td>APP0308</td>\n",
              "      <td>AV Cable Adapter Apple iPhone iPad and iPod white</td>\n",
              "      <td>IPhone iPad iPod adapter and AV cable.</td>\n",
              "      <td>45</td>\n",
              "      <td>359.999</td>\n",
              "      <td>0</td>\n",
              "      <td>1230</td>\n",
              "    </tr>\n",
              "    <tr>\n",
              "      <th>37</th>\n",
              "      <td>GRT0196</td>\n",
              "      <td>Griffin Survivor Extreme-Duty Case iPad 2 3 an...</td>\n",
              "      <td>IPad 2 Case 3 and 4 for extreme ultra resistant.</td>\n",
              "      <td>64.99</td>\n",
              "      <td>499.899</td>\n",
              "      <td>0</td>\n",
              "      <td>12635403</td>\n",
              "    </tr>\n",
              "    <tr>\n",
              "      <th>38</th>\n",
              "      <td>MUV0023</td>\n",
              "      <td>Extreme Muvit iPhone and iPod BikeMount sleeve...</td>\n",
              "      <td>IPhone and iPod support sleeve waterproof App ...</td>\n",
              "      <td>35.9</td>\n",
              "      <td>169.896</td>\n",
              "      <td>0</td>\n",
              "      <td>11865403</td>\n",
              "    </tr>\n",
              "    <tr>\n",
              "      <th>39</th>\n",
              "      <td>JMO0026</td>\n",
              "      <td>Just Mobile Lazy Couch Support Mac and iPad</td>\n",
              "      <td>Mac and iPad small lift stand.</td>\n",
              "      <td>19.95</td>\n",
              "      <td>199.892</td>\n",
              "      <td>0</td>\n",
              "      <td>8696</td>\n",
              "    </tr>\n",
              "    <tr>\n",
              "      <th>40</th>\n",
              "      <td>OWC0007</td>\n",
              "      <td>OWC Data Doubler Optical Bay adapter Macbook /...</td>\n",
              "      <td>Tray SuperDrive replacement hard disk or SSD.</td>\n",
              "      <td>72.99</td>\n",
              "      <td>399.905</td>\n",
              "      <td>1</td>\n",
              "      <td>12755395</td>\n",
              "    </tr>\n",
              "    <tr>\n",
              "      <th>41</th>\n",
              "      <td>KEN0028</td>\n",
              "      <td>Kensington ClickSafe lock Mac and PC</td>\n",
              "      <td>Mac and PC padlock with keys.</td>\n",
              "      <td>54.99</td>\n",
              "      <td>499.899</td>\n",
              "      <td>0</td>\n",
              "      <td>1325</td>\n",
              "    </tr>\n",
              "    <tr>\n",
              "      <th>42</th>\n",
              "      <td>APP0343</td>\n",
              "      <td>Apple Thunderbolt Cable 2m White</td>\n",
              "      <td>Cable Mac Apple Thunderbolt 2m.</td>\n",
              "      <td>45</td>\n",
              "      <td>429.998</td>\n",
              "      <td>1</td>\n",
              "      <td>1325</td>\n",
              "    </tr>\n",
              "    <tr>\n",
              "      <th>43</th>\n",
              "      <td>MOS0044</td>\n",
              "      <td>Moshi FireWire 800 Cable</td>\n",
              "      <td>FireWire 800 Cable 18 m.</td>\n",
              "      <td>34.99</td>\n",
              "      <td>269.903</td>\n",
              "      <td>0</td>\n",
              "      <td>1325</td>\n",
              "    </tr>\n",
              "    <tr>\n",
              "      <th>44</th>\n",
              "      <td>MOS0062</td>\n",
              "      <td>Moshi USB Ethernet Adapter</td>\n",
              "      <td>USB to Ethernet adapter.</td>\n",
              "      <td>29</td>\n",
              "      <td>249.865</td>\n",
              "      <td>0</td>\n",
              "      <td>1325</td>\n",
              "    </tr>\n",
              "    <tr>\n",
              "      <th>45</th>\n",
              "      <td>MOB0009</td>\n",
              "      <td>Mobee Magic Numpad for the Magic Trackpad</td>\n",
              "      <td>3 Numeric for Magic Trackpad stickers.</td>\n",
              "      <td>29.49</td>\n",
              "      <td>279.873</td>\n",
              "      <td>0</td>\n",
              "      <td>12355400</td>\n",
              "    </tr>\n",
              "    <tr>\n",
              "      <th>46</th>\n",
              "      <td>TWS0026</td>\n",
              "      <td>Twelve South BookBook MacBook Air sleeve 11 \"b...</td>\n",
              "      <td>Case Macbook 11 inches vintage skin with soft ...</td>\n",
              "      <td>79.99</td>\n",
              "      <td>749.958</td>\n",
              "      <td>0</td>\n",
              "      <td>13835403</td>\n",
              "    </tr>\n",
              "    <tr>\n",
              "      <th>47</th>\n",
              "      <td>MOB0010</td>\n",
              "      <td>Additional Battery Pack Mobee Magic Bar</td>\n",
              "      <td>Pack extra battery Mobee Magic Bar.</td>\n",
              "      <td>29.99</td>\n",
              "      <td>169.884</td>\n",
              "      <td>0</td>\n",
              "      <td>12355400</td>\n",
              "    </tr>\n",
              "    <tr>\n",
              "      <th>48</th>\n",
              "      <td>IST0009</td>\n",
              "      <td>iStabilizer iPhone Tripod Mount</td>\n",
              "      <td>IPhone Tripod Adapter for photo and video.</td>\n",
              "      <td>19.99</td>\n",
              "      <td>199.892</td>\n",
              "      <td>0</td>\n",
              "      <td>1216</td>\n",
              "    </tr>\n",
              "    <tr>\n",
              "      <th>49</th>\n",
              "      <td>TWS0027</td>\n",
              "      <td>Twelve South BookBook Case MacBook Air / Pro 1...</td>\n",
              "      <td>Funda Macbook Air / Pro 13 inch vintage leathe...</td>\n",
              "      <td>79.99</td>\n",
              "      <td>749.898</td>\n",
              "      <td>0</td>\n",
              "      <td>13835403</td>\n",
              "    </tr>\n",
              "    <tr>\n",
              "      <th>50</th>\n",
              "      <td>APP0367</td>\n",
              "      <td>Apple Mini DisplayPort to DVI Adapter Mac dual...</td>\n",
              "      <td>Adapter Mini Display Port to DVI dual channel ...</td>\n",
              "      <td>119</td>\n",
              "      <td>1.119.976</td>\n",
              "      <td>0</td>\n",
              "      <td>1325</td>\n",
              "    </tr>\n",
              "    <tr>\n",
              "      <th>51</th>\n",
              "      <td>APP0344</td>\n",
              "      <td>Apple Thunderbolt Display 27 \"Monitor Mac</td>\n",
              "      <td>Monitor Display 27-inch Apple Thunderbolt (MC9...</td>\n",
              "      <td>1149</td>\n",
              "      <td>10.449.923</td>\n",
              "      <td>0</td>\n",
              "      <td>1296</td>\n",
              "    </tr>\n",
              "    <tr>\n",
              "      <th>52</th>\n",
              "      <td>BLL0008</td>\n",
              "      <td>BlueLounge CableDrop Pack 6 Black</td>\n",
              "      <td>Cable management Mac iPhone iPad and iPod.</td>\n",
              "      <td>11.99</td>\n",
              "      <td>119.911</td>\n",
              "      <td>0</td>\n",
              "      <td>12285400</td>\n",
              "    </tr>\n",
              "    <tr>\n",
              "      <th>53</th>\n",
              "      <td>BLL0009</td>\n",
              "      <td>BlueLounge CableDrop Pack 6 White</td>\n",
              "      <td>Cable management Mac iPhone iPad and iPod.</td>\n",
              "      <td>12.99</td>\n",
              "      <td>109.868</td>\n",
              "      <td>0</td>\n",
              "      <td>12285400</td>\n",
              "    </tr>\n",
              "    <tr>\n",
              "      <th>54</th>\n",
              "      <td>BLL0011</td>\n",
              "      <td>BlueLounge Milo iPhone and iPod black support</td>\n",
              "      <td>Desktop support iPhone and iPod.</td>\n",
              "      <td>14.99</td>\n",
              "      <td>149.895</td>\n",
              "      <td>0</td>\n",
              "      <td>1216</td>\n",
              "    </tr>\n",
              "    <tr>\n",
              "      <th>55</th>\n",
              "      <td>BLL0012</td>\n",
              "      <td>Milo BlueLounge support iPhone and iPod white</td>\n",
              "      <td>Desktop support iPhone and iPod.</td>\n",
              "      <td>14.99</td>\n",
              "      <td>149.919</td>\n",
              "      <td>0</td>\n",
              "      <td>1216</td>\n",
              "    </tr>\n",
              "    <tr>\n",
              "      <th>56</th>\n",
              "      <td>KIN0002-2</td>\n",
              "      <td>Mac memory Kingston 2GB (2x1GB) 667MHz DDR2 SO...</td>\n",
              "      <td>RAM 2GB (2x1GB) Mac mini and iMac (2006/07) Ma...</td>\n",
              "      <td>37.98</td>\n",
              "      <td>289.904</td>\n",
              "      <td>0</td>\n",
              "      <td>1364</td>\n",
              "    </tr>\n",
              "    <tr>\n",
              "      <th>57</th>\n",
              "      <td>KIN0003-2</td>\n",
              "      <td>Mac memory Kingston 4GB (2x2gb) SO-DIMM DDR2 8...</td>\n",
              "      <td>RAM 4GB (2x2gb) iMac with Intel Core 2 Duo (Pe...</td>\n",
              "      <td>73.98</td>\n",
              "      <td>539.902</td>\n",
              "      <td>0</td>\n",
              "      <td>1364</td>\n",
              "    </tr>\n",
              "    <tr>\n",
              "      <th>58</th>\n",
              "      <td>MOP0013</td>\n",
              "      <td>Mophie Juice Pack Air Battery Case iPhone 4 / ...</td>\n",
              "      <td>Case Battery (1500mAh) iPhone 4 / 4S polymer.</td>\n",
              "      <td>69.95</td>\n",
              "      <td>539.902</td>\n",
              "      <td>0</td>\n",
              "      <td>5,49E+11</td>\n",
              "    </tr>\n",
              "    <tr>\n",
              "      <th>59</th>\n",
              "      <td>MOS0065</td>\n",
              "      <td>Moshi TeraGlove cleaner screens</td>\n",
              "      <td>Microfibre screen cleaner for Mac iPhone iPad ...</td>\n",
              "      <td>20</td>\n",
              "      <td>149.895</td>\n",
              "      <td>0</td>\n",
              "      <td>12355400</td>\n",
              "    </tr>\n",
              "  </tbody>\n",
              "</table>\n",
              "</div>\n",
              "      <button class=\"colab-df-convert\" onclick=\"convertToInteractive('df-0201610c-a35a-495c-9963-73b9b2ab627a')\"\n",
              "              title=\"Convert this dataframe to an interactive table.\"\n",
              "              style=\"display:none;\">\n",
              "        \n",
              "  <svg xmlns=\"http://www.w3.org/2000/svg\" height=\"24px\"viewBox=\"0 0 24 24\"\n",
              "       width=\"24px\">\n",
              "    <path d=\"M0 0h24v24H0V0z\" fill=\"none\"/>\n",
              "    <path d=\"M18.56 5.44l.94 2.06.94-2.06 2.06-.94-2.06-.94-.94-2.06-.94 2.06-2.06.94zm-11 1L8.5 8.5l.94-2.06 2.06-.94-2.06-.94L8.5 2.5l-.94 2.06-2.06.94zm10 10l.94 2.06.94-2.06 2.06-.94-2.06-.94-.94-2.06-.94 2.06-2.06.94z\"/><path d=\"M17.41 7.96l-1.37-1.37c-.4-.4-.92-.59-1.43-.59-.52 0-1.04.2-1.43.59L10.3 9.45l-7.72 7.72c-.78.78-.78 2.05 0 2.83L4 21.41c.39.39.9.59 1.41.59.51 0 1.02-.2 1.41-.59l7.78-7.78 2.81-2.81c.8-.78.8-2.07 0-2.86zM5.41 20L4 18.59l7.72-7.72 1.47 1.35L5.41 20z\"/>\n",
              "  </svg>\n",
              "      </button>\n",
              "      \n",
              "  <style>\n",
              "    .colab-df-container {\n",
              "      display:flex;\n",
              "      flex-wrap:wrap;\n",
              "      gap: 12px;\n",
              "    }\n",
              "\n",
              "    .colab-df-convert {\n",
              "      background-color: #E8F0FE;\n",
              "      border: none;\n",
              "      border-radius: 50%;\n",
              "      cursor: pointer;\n",
              "      display: none;\n",
              "      fill: #1967D2;\n",
              "      height: 32px;\n",
              "      padding: 0 0 0 0;\n",
              "      width: 32px;\n",
              "    }\n",
              "\n",
              "    .colab-df-convert:hover {\n",
              "      background-color: #E2EBFA;\n",
              "      box-shadow: 0px 1px 2px rgba(60, 64, 67, 0.3), 0px 1px 3px 1px rgba(60, 64, 67, 0.15);\n",
              "      fill: #174EA6;\n",
              "    }\n",
              "\n",
              "    [theme=dark] .colab-df-convert {\n",
              "      background-color: #3B4455;\n",
              "      fill: #D2E3FC;\n",
              "    }\n",
              "\n",
              "    [theme=dark] .colab-df-convert:hover {\n",
              "      background-color: #434B5C;\n",
              "      box-shadow: 0px 1px 3px 1px rgba(0, 0, 0, 0.15);\n",
              "      filter: drop-shadow(0px 1px 2px rgba(0, 0, 0, 0.3));\n",
              "      fill: #FFFFFF;\n",
              "    }\n",
              "  </style>\n",
              "\n",
              "      <script>\n",
              "        const buttonEl =\n",
              "          document.querySelector('#df-0201610c-a35a-495c-9963-73b9b2ab627a button.colab-df-convert');\n",
              "        buttonEl.style.display =\n",
              "          google.colab.kernel.accessAllowed ? 'block' : 'none';\n",
              "\n",
              "        async function convertToInteractive(key) {\n",
              "          const element = document.querySelector('#df-0201610c-a35a-495c-9963-73b9b2ab627a');\n",
              "          const dataTable =\n",
              "            await google.colab.kernel.invokeFunction('convertToInteractive',\n",
              "                                                     [key], {});\n",
              "          if (!dataTable) return;\n",
              "\n",
              "          const docLinkHtml = 'Like what you see? Visit the ' +\n",
              "            '<a target=\"_blank\" href=https://colab.research.google.com/notebooks/data_table.ipynb>data table notebook</a>'\n",
              "            + ' to learn more about interactive tables.';\n",
              "          element.innerHTML = '';\n",
              "          dataTable['output_type'] = 'display_data';\n",
              "          await google.colab.output.renderOutput(dataTable, element);\n",
              "          const docLink = document.createElement('div');\n",
              "          docLink.innerHTML = docLinkHtml;\n",
              "          element.appendChild(docLink);\n",
              "        }\n",
              "      </script>\n",
              "    </div>\n",
              "  </div>\n",
              "  "
            ],
            "text/plain": [
              "          sku                                               name  \\\n",
              "0     RAI0007                  Silver Rain Design mStand Support   \n",
              "1     APP0023                  Apple Mac Keyboard Keypad Spanish   \n",
              "2     APP0025                   Mighty Mouse Apple Mouse for Mac   \n",
              "3     APP0072      Apple Dock to USB Cable iPhone and iPod white   \n",
              "4     KIN0007        Mac Memory Kingston 2GB 667MHz DDR2 SO-DIMM   \n",
              "5     APP0073     Apple Composite AV Cable iPhone and iPod white   \n",
              "6     KIN0008        Mac Memory Kingston 1GB 667MHz DDR2 SO-DIMM   \n",
              "7     KIN0009        Mac Memory Kingston 2GB 800MHz DDR2 SO-DIMM   \n",
              "8   KIN0001-2  Mac memory Kingston 4GB (2x2GB) 667MHz DDR2 SO...   \n",
              "9     APP0100             Apple Adapter Mini Display Port to VGA   \n",
              "10    APP0101              Apple Mini DisplayPort to DVI Adapter   \n",
              "11    SEN0021  Sennheiser CX 300-II Precision headphones iPho...   \n",
              "12    APP0111                     Apple USB Ethernet Adapter Mac   \n",
              "13    APP0156              45W MagSafe charger Apple MacBook Air   \n",
              "14    MOS0013         Adapter Moshi FireWire 400 to FireWire 800   \n",
              "15    MOS0021               Clearguard Moshi MacBook Pro and Air   \n",
              "16    APP0206  60W MagSafe charger Apple MacBook and MacBook ...   \n",
              "17    HGD0007       Henge Docks Docking Station MacBook Pro 13 \"   \n",
              "18    MUV0009    Muvit Back Clear Case iPhone 4 / 4S Transparent   \n",
              "19    APP0234                        Apple Dock Connector to VGA   \n",
              "20    APP0247    85W MagSafe charger Apple MacBook Pro 15 \"/ 17\"   \n",
              "21    APP0233             Apple iPad Camera Connection connector   \n",
              "22    JMO0014                   Just Mobile Upstand iPad support   \n",
              "23    MOB0007            Mobee Magic Charger Charger Magic Mouse   \n",
              "24    APP0277         Apple Wireless Keyboard Keyboard (OEM) Mac   \n",
              "25    MOP0011  Mophie Juice Pack Air Battery Case iPhone 4 / ...   \n",
              "26    APP0280                      Apple HDMI to HDMI Cable 1.8m   \n",
              "27    OND0069                           Adapter mini DVI to HDMI   \n",
              "28    SNN0007              Sonnet Tempo SATA PCIe Mac and PC E2P   \n",
              "29    KIN0025          Mac memory DIMM DDR3 2GB 1333MHz Kingston   \n",
              "30    OND0073                 Mini DisplayPort to HDMI Cable 18m   \n",
              "31    MOS0042             Adapter Moshi Mini Display Port to VGA   \n",
              "32    BEL0070        Music Receiver Belkin iPhone music receiver   \n",
              "33    LMP0007                    KeyPad LMP Bluetooth Keypad Mac   \n",
              "34    TWS0019  Twelve South MagicWand support Apple Magic Tra...   \n",
              "35    BEL0072                Belkin PRO Series USB 2.0 Cable 18M   \n",
              "36    APP0308  AV Cable Adapter Apple iPhone iPad and iPod white   \n",
              "37    GRT0196  Griffin Survivor Extreme-Duty Case iPad 2 3 an...   \n",
              "38    MUV0023  Extreme Muvit iPhone and iPod BikeMount sleeve...   \n",
              "39    JMO0026        Just Mobile Lazy Couch Support Mac and iPad   \n",
              "40    OWC0007  OWC Data Doubler Optical Bay adapter Macbook /...   \n",
              "41    KEN0028               Kensington ClickSafe lock Mac and PC   \n",
              "42    APP0343                   Apple Thunderbolt Cable 2m White   \n",
              "43    MOS0044                           Moshi FireWire 800 Cable   \n",
              "44    MOS0062                         Moshi USB Ethernet Adapter   \n",
              "45    MOB0009          Mobee Magic Numpad for the Magic Trackpad   \n",
              "46    TWS0026  Twelve South BookBook MacBook Air sleeve 11 \"b...   \n",
              "47    MOB0010            Additional Battery Pack Mobee Magic Bar   \n",
              "48    IST0009                    iStabilizer iPhone Tripod Mount   \n",
              "49    TWS0027  Twelve South BookBook Case MacBook Air / Pro 1...   \n",
              "50    APP0367  Apple Mini DisplayPort to DVI Adapter Mac dual...   \n",
              "51    APP0344          Apple Thunderbolt Display 27 \"Monitor Mac   \n",
              "52    BLL0008                  BlueLounge CableDrop Pack 6 Black   \n",
              "53    BLL0009                  BlueLounge CableDrop Pack 6 White   \n",
              "54    BLL0011      BlueLounge Milo iPhone and iPod black support   \n",
              "55    BLL0012      Milo BlueLounge support iPhone and iPod white   \n",
              "56  KIN0002-2  Mac memory Kingston 2GB (2x1GB) 667MHz DDR2 SO...   \n",
              "57  KIN0003-2  Mac memory Kingston 4GB (2x2gb) SO-DIMM DDR2 8...   \n",
              "58    MOP0013  Mophie Juice Pack Air Battery Case iPhone 4 / ...   \n",
              "59    MOS0065                    Moshi TeraGlove cleaner screens   \n",
              "\n",
              "                                                 desc  price promo_price  \\\n",
              "0        Aluminum support compatible with all MacBook  59.99     499.899   \n",
              "1           USB ultrathin keyboard Apple Mac Spanish.     59     589.996   \n",
              "2                              mouse Apple USB cable.     59     569.898   \n",
              "3               IPhone dock and USB Cable Apple iPod.     25     229.997   \n",
              "4   2GB RAM Mac mini and iMac (2006/07) MacBook Pr...  34.99       31.99   \n",
              "5   IPhone and iPod AV Cable Dock to Composite Video.     45     420.003   \n",
              "6   1GB RAM Mac mini and iMac (2006/07) MacBook Pr...  18.99     146.471   \n",
              "7        2GB RAM iMac with Intel Core 2 Duo (Penryn).  36.99     274.694   \n",
              "8   RAM 4GB (2x2GB) Mac mini and iMac (2006/07) Ma...     74     669.904   \n",
              "9   Adapter Mini Display Port to VGA MacBook and M...     35     330.003   \n",
              "10  Adapter mini DisplayPort to DVI MacBook and Ma...     35     330.003   \n",
              "11     Headphones iPhone iPad iPad 2 iPad 3 and iPod.  49.99     449.878   \n",
              "12                       USB to Ethernet adapter Mac.     35     330.003   \n",
              "13     Charger MacBook Air MagSafe 45 W (MC747Z / A).     89     849.904   \n",
              "14           FireWire 400 adapter cable FireWire 800.     20     179.891   \n",
              "15  Keyboard Protector MacBook Pro 13-inch Retina ...  24.95     249.889   \n",
              "16  Charger MacBook and 13 inch MacBook MagSafe 60...     89     849.904   \n",
              "17  Dock and support with multiple connections for...  69.99     699.864   \n",
              "18                  Case iPhone 4 / 4S polycarbonate.   9.99       7.986   \n",
              "19                         Dock Connector to VGA IOS.     35     350.005   \n",
              "20     Charger MacBook Pro MagSafe 85 W (MC556Z / A).     89     849.904   \n",
              "21   IPad connector for digital cameras and SD cards.     35     349.896   \n",
              "22        Support Retina iPad and iPad mini aluminum.  49.95     399.905   \n",
              "23                   Wireless Charger for Magic Mouse  49.99     499.851   \n",
              "24  Ultrathin keyboard Apple Bluetooth Spanish (un...     79     759.904   \n",
              "25          Battery Case iPhone 4 / 4S rigid polymer.  69.99      56.991   \n",
              "26                           HMDI to HDMI Cable 1.8m.     25     240.004   \n",
              "27            Adapter mini DVI to HDMI for Mac and PC  16.49     149.895   \n",
              "28      PCIe Card with 2 Serial ATA ports Mac and PC.  59.99     502.102   \n",
              "29                       2GB RAM Mac Pro (July 2010).  29.99     179.903   \n",
              "30  Cable with Mini DisplayPort to HDMI (audio + v...  22.99     169.896   \n",
              "31            Cable Adapter Mini Display Port to VGA.  34.99     269.903   \n",
              "32  Music Receiver iPhone iPad and iPod Touch for ...  49.99     299.899   \n",
              "33    expansion keypad Mac with bluetooth connection.  54.99     399.905   \n",
              "34  MagicWand for wireless keyboard and Magic Trac...    NaN     299.899   \n",
              "35  USB Cable USB type A and type B 18m in length ...   3.99      29.899   \n",
              "36             IPhone iPad iPod adapter and AV cable.     45     359.999   \n",
              "37   IPad 2 Case 3 and 4 for extreme ultra resistant.  64.99     499.899   \n",
              "38  IPhone and iPod support sleeve waterproof App ...   35.9     169.896   \n",
              "39                     Mac and iPad small lift stand.  19.95     199.892   \n",
              "40      Tray SuperDrive replacement hard disk or SSD.  72.99     399.905   \n",
              "41                      Mac and PC padlock with keys.  54.99     499.899   \n",
              "42                    Cable Mac Apple Thunderbolt 2m.     45     429.998   \n",
              "43                           FireWire 800 Cable 18 m.  34.99     269.903   \n",
              "44                           USB to Ethernet adapter.     29     249.865   \n",
              "45             3 Numeric for Magic Trackpad stickers.  29.49     279.873   \n",
              "46  Case Macbook 11 inches vintage skin with soft ...  79.99     749.958   \n",
              "47                Pack extra battery Mobee Magic Bar.  29.99     169.884   \n",
              "48         IPhone Tripod Adapter for photo and video.  19.99     199.892   \n",
              "49  Funda Macbook Air / Pro 13 inch vintage leathe...  79.99     749.898   \n",
              "50  Adapter Mini Display Port to DVI dual channel ...    119   1.119.976   \n",
              "51  Monitor Display 27-inch Apple Thunderbolt (MC9...   1149  10.449.923   \n",
              "52         Cable management Mac iPhone iPad and iPod.  11.99     119.911   \n",
              "53         Cable management Mac iPhone iPad and iPod.  12.99     109.868   \n",
              "54                   Desktop support iPhone and iPod.  14.99     149.895   \n",
              "55                   Desktop support iPhone and iPod.  14.99     149.919   \n",
              "56  RAM 2GB (2x1GB) Mac mini and iMac (2006/07) Ma...  37.98     289.904   \n",
              "57  RAM 4GB (2x2gb) iMac with Intel Core 2 Duo (Pe...  73.98     539.902   \n",
              "58      Case Battery (1500mAh) iPhone 4 / 4S polymer.  69.95     539.902   \n",
              "59  Microfibre screen cleaner for Mac iPhone iPad ...     20     149.895   \n",
              "\n",
              "    in_stock      type  \n",
              "0          1      8696  \n",
              "1          0  13855401  \n",
              "2          0      1387  \n",
              "3          0      1230  \n",
              "4          1      1364  \n",
              "5          0      1230  \n",
              "6          0      1364  \n",
              "7          0      1364  \n",
              "8          0      1364  \n",
              "9          0      1325  \n",
              "10         0      1325  \n",
              "11         0      5384  \n",
              "12         0      1334  \n",
              "13         0  13005399  \n",
              "14         0      1325  \n",
              "15         0  13835403  \n",
              "16         1  13005399  \n",
              "17         0  12995397  \n",
              "18         0  11865403  \n",
              "19         0  13955395  \n",
              "20         1  13005399  \n",
              "21         0  13955395  \n",
              "22         0      1216  \n",
              "23         0  12355400  \n",
              "24         0  13855401  \n",
              "25         0  5,49E+11  \n",
              "26         0      1325  \n",
              "27         0      1325  \n",
              "28         0      1276  \n",
              "29         0      1364  \n",
              "30         0      1325  \n",
              "31         0      1325  \n",
              "32         0  11905404  \n",
              "33         1  13855401  \n",
              "34         0      8696  \n",
              "35         1      1325  \n",
              "36         0      1230  \n",
              "37         0  12635403  \n",
              "38         0  11865403  \n",
              "39         0      8696  \n",
              "40         1  12755395  \n",
              "41         0      1325  \n",
              "42         1      1325  \n",
              "43         0      1325  \n",
              "44         0      1325  \n",
              "45         0  12355400  \n",
              "46         0  13835403  \n",
              "47         0  12355400  \n",
              "48         0      1216  \n",
              "49         0  13835403  \n",
              "50         0      1325  \n",
              "51         0      1296  \n",
              "52         0  12285400  \n",
              "53         0  12285400  \n",
              "54         0      1216  \n",
              "55         0      1216  \n",
              "56         0      1364  \n",
              "57         0      1364  \n",
              "58         0  5,49E+11  \n",
              "59         0  12355400  "
            ]
          },
          "execution_count": 15,
          "metadata": {},
          "output_type": "execute_result"
        }
      ],
      "source": [
        "# your code here\n",
        "products.head(60)"
      ]
    },
    {
      "cell_type": "markdown",
      "metadata": {
        "id": "DyTfC-WY-IWe"
      },
      "source": [
        "### Look for Duplicates"
      ]
    },
    {
      "cell_type": "code",
      "execution_count": null,
      "metadata": {
        "colab": {
          "base_uri": "https://localhost:8080/"
        },
        "id": "BABcF1XrrG85",
        "outputId": "70ae39af-0688-464b-a2dc-ca611635817e"
      },
      "outputs": [
        {
          "data": {
            "text/plain": [
              "0"
            ]
          },
          "execution_count": 17,
          "metadata": {},
          "output_type": "execute_result"
        }
      ],
      "source": []
    },
    {
      "cell_type": "code",
      "execution_count": null,
      "metadata": {
        "id": "MXZXRvUa_GTW"
      },
      "outputs": [],
      "source": [
        "# your code here"
      ]
    },
    {
      "cell_type": "markdown",
      "metadata": {
        "id": "XTGqkqtm--ln"
      },
      "source": [
        "### Look for Missing values\n"
      ]
    },
    {
      "cell_type": "code",
      "execution_count": null,
      "metadata": {
        "id": "_LrT0QGlkKi-"
      },
      "outputs": [],
      "source": [
        "# your code here"
      ]
    },
    {
      "cell_type": "markdown",
      "metadata": {
        "id": "4x6xeGDu_B0N"
      },
      "source": [
        "### Check / Change Data types"
      ]
    },
    {
      "cell_type": "code",
      "execution_count": null,
      "metadata": {
        "id": "3evkDaafvFUq"
      },
      "outputs": [],
      "source": [
        "# your code here"
      ]
    },
    {
      "cell_type": "code",
      "execution_count": null,
      "metadata": {
        "id": "F_-YGJdgkImR"
      },
      "outputs": [],
      "source": [
        "#simge\n",
        "two_dot_order_sku_list = products.loc[products.price.str.contains(\"\\d+\\.\\d+\\.\\d+\", na=False), \"sku\"]\n",
        "products = products.loc[~products.sku.isin(two_dot_order_sku_list)]\n",
        "products[\"price\"] = pd.to_numeric(products[\"price\"])"
      ]
    },
    {
      "cell_type": "code",
      "execution_count": null,
      "metadata": {
        "colab": {
          "base_uri": "https://localhost:8080/",
          "height": 237
        },
        "id": "jKtL19QXwiYC",
        "outputId": "503b85b4-feca-45d6-f0bd-83a050acd056"
      },
      "outputs": [
        {
          "data": {
            "text/html": [
              "\n",
              "  <div id=\"df-2ee916e9-e804-475b-a208-fbbf37842713\">\n",
              "    <div class=\"colab-df-container\">\n",
              "      <div>\n",
              "<style scoped>\n",
              "    .dataframe tbody tr th:only-of-type {\n",
              "        vertical-align: middle;\n",
              "    }\n",
              "\n",
              "    .dataframe tbody tr th {\n",
              "        vertical-align: top;\n",
              "    }\n",
              "\n",
              "    .dataframe thead th {\n",
              "        text-align: right;\n",
              "    }\n",
              "</style>\n",
              "<table border=\"1\" class=\"dataframe\">\n",
              "  <thead>\n",
              "    <tr style=\"text-align: right;\">\n",
              "      <th></th>\n",
              "      <th>total_paid</th>\n",
              "      <th>order_id</th>\n",
              "    </tr>\n",
              "    <tr>\n",
              "      <th>state</th>\n",
              "      <th></th>\n",
              "      <th></th>\n",
              "    </tr>\n",
              "  </thead>\n",
              "  <tbody>\n",
              "    <tr>\n",
              "      <th>Shopping Basket</th>\n",
              "      <td>85912559.93</td>\n",
              "      <td>117809</td>\n",
              "    </tr>\n",
              "    <tr>\n",
              "      <th>Place Order</th>\n",
              "      <td>17087858.32</td>\n",
              "      <td>40883</td>\n",
              "    </tr>\n",
              "    <tr>\n",
              "      <th>Completed</th>\n",
              "      <td>15910079.24</td>\n",
              "      <td>46605</td>\n",
              "    </tr>\n",
              "    <tr>\n",
              "      <th>Cancelled</th>\n",
              "      <td>5545816.86</td>\n",
              "      <td>7233</td>\n",
              "    </tr>\n",
              "    <tr>\n",
              "      <th>Pending</th>\n",
              "      <td>4703300.72</td>\n",
              "      <td>14379</td>\n",
              "    </tr>\n",
              "  </tbody>\n",
              "</table>\n",
              "</div>\n",
              "      <button class=\"colab-df-convert\" onclick=\"convertToInteractive('df-2ee916e9-e804-475b-a208-fbbf37842713')\"\n",
              "              title=\"Convert this dataframe to an interactive table.\"\n",
              "              style=\"display:none;\">\n",
              "        \n",
              "  <svg xmlns=\"http://www.w3.org/2000/svg\" height=\"24px\"viewBox=\"0 0 24 24\"\n",
              "       width=\"24px\">\n",
              "    <path d=\"M0 0h24v24H0V0z\" fill=\"none\"/>\n",
              "    <path d=\"M18.56 5.44l.94 2.06.94-2.06 2.06-.94-2.06-.94-.94-2.06-.94 2.06-2.06.94zm-11 1L8.5 8.5l.94-2.06 2.06-.94-2.06-.94L8.5 2.5l-.94 2.06-2.06.94zm10 10l.94 2.06.94-2.06 2.06-.94-2.06-.94-.94-2.06-.94 2.06-2.06.94z\"/><path d=\"M17.41 7.96l-1.37-1.37c-.4-.4-.92-.59-1.43-.59-.52 0-1.04.2-1.43.59L10.3 9.45l-7.72 7.72c-.78.78-.78 2.05 0 2.83L4 21.41c.39.39.9.59 1.41.59.51 0 1.02-.2 1.41-.59l7.78-7.78 2.81-2.81c.8-.78.8-2.07 0-2.86zM5.41 20L4 18.59l7.72-7.72 1.47 1.35L5.41 20z\"/>\n",
              "  </svg>\n",
              "      </button>\n",
              "      \n",
              "  <style>\n",
              "    .colab-df-container {\n",
              "      display:flex;\n",
              "      flex-wrap:wrap;\n",
              "      gap: 12px;\n",
              "    }\n",
              "\n",
              "    .colab-df-convert {\n",
              "      background-color: #E8F0FE;\n",
              "      border: none;\n",
              "      border-radius: 50%;\n",
              "      cursor: pointer;\n",
              "      display: none;\n",
              "      fill: #1967D2;\n",
              "      height: 32px;\n",
              "      padding: 0 0 0 0;\n",
              "      width: 32px;\n",
              "    }\n",
              "\n",
              "    .colab-df-convert:hover {\n",
              "      background-color: #E2EBFA;\n",
              "      box-shadow: 0px 1px 2px rgba(60, 64, 67, 0.3), 0px 1px 3px 1px rgba(60, 64, 67, 0.15);\n",
              "      fill: #174EA6;\n",
              "    }\n",
              "\n",
              "    [theme=dark] .colab-df-convert {\n",
              "      background-color: #3B4455;\n",
              "      fill: #D2E3FC;\n",
              "    }\n",
              "\n",
              "    [theme=dark] .colab-df-convert:hover {\n",
              "      background-color: #434B5C;\n",
              "      box-shadow: 0px 1px 3px 1px rgba(0, 0, 0, 0.15);\n",
              "      filter: drop-shadow(0px 1px 2px rgba(0, 0, 0, 0.3));\n",
              "      fill: #FFFFFF;\n",
              "    }\n",
              "  </style>\n",
              "\n",
              "      <script>\n",
              "        const buttonEl =\n",
              "          document.querySelector('#df-2ee916e9-e804-475b-a208-fbbf37842713 button.colab-df-convert');\n",
              "        buttonEl.style.display =\n",
              "          google.colab.kernel.accessAllowed ? 'block' : 'none';\n",
              "\n",
              "        async function convertToInteractive(key) {\n",
              "          const element = document.querySelector('#df-2ee916e9-e804-475b-a208-fbbf37842713');\n",
              "          const dataTable =\n",
              "            await google.colab.kernel.invokeFunction('convertToInteractive',\n",
              "                                                     [key], {});\n",
              "          if (!dataTable) return;\n",
              "\n",
              "          const docLinkHtml = 'Like what you see? Visit the ' +\n",
              "            '<a target=\"_blank\" href=https://colab.research.google.com/notebooks/data_table.ipynb>data table notebook</a>'\n",
              "            + ' to learn more about interactive tables.';\n",
              "          element.innerHTML = '';\n",
              "          dataTable['output_type'] = 'display_data';\n",
              "          await google.colab.output.renderOutput(dataTable, element);\n",
              "          const docLink = document.createElement('div');\n",
              "          docLink.innerHTML = docLinkHtml;\n",
              "          element.appendChild(docLink);\n",
              "        }\n",
              "      </script>\n",
              "    </div>\n",
              "  </div>\n",
              "  "
            ],
            "text/plain": [
              "                  total_paid  order_id\n",
              "state                                 \n",
              "Shopping Basket  85912559.93    117809\n",
              "Place Order      17087858.32     40883\n",
              "Completed        15910079.24     46605\n",
              "Cancelled         5545816.86      7233\n",
              "Pending           4703300.72     14379"
            ]
          },
          "execution_count": 18,
          "metadata": {},
          "output_type": "execute_result"
        }
      ],
      "source": [
        "orders.groupby(\"state\").agg({\"total_paid\":\"sum\", \"order_id\":\"count\"}).sort_values(by=\"total_paid\", ascending=False).head()"
      ]
    }
  ],
  "metadata": {
    "colab": {
      "provenance": []
    },
    "kernelspec": {
      "display_name": "Python 3",
      "name": "python3"
    },
    "language_info": {
      "codemirror_mode": {
        "name": "ipython",
        "version": 3
      },
      "file_extension": ".py",
      "mimetype": "text/x-python",
      "name": "python",
      "nbconvert_exporter": "python",
      "pygments_lexer": "ipython3",
      "version": "3.9.13"
    }
  },
  "nbformat": 4,
  "nbformat_minor": 0
}
