{
  "cells": [
    {
      "cell_type": "markdown",
      "metadata": {
        "id": "aSm5aaRLtFLx"
      },
      "source": [
        "# Quality Assessment\n",
        "Now it's your turn. Follow [the steps on the platform](https://platform.wbscodingschool.com/courses/data-science/9474/) and use what you've learnt to see how reliable the data is."
      ]
    },
    {
      "cell_type": "code",
      "execution_count": 8,
      "metadata": {
        "id": "Lq7zsZka4q2m"
      },
      "outputs": [],
      "source": [
        "import pandas as pd"
      ]
    },
    {
      "cell_type": "markdown",
      "metadata": {
        "id": "hzwXSr-xfh97"
      },
      "source": [
        "Load our cleaned DataFrames"
      ]
    },
    {
      "cell_type": "code",
      "execution_count": 9,
      "metadata": {
        "id": "30IJsE7t49Eu"
      },
      "outputs": [],
      "source": [
        "# orders_cl.csv\n",
        "url = \"https://drive.google.com/file/d/1Tla62vfu__kCqvgypZyVt2S9VuC016yH/view?usp=sharing\" \n",
        "path = \"https://drive.google.com/uc?export=download&id=\"+url.split(\"/\")[-2]\n",
        "orders_cl = pd.read_csv(path)\n",
        "\n",
        "# orderlines_cl.csv\n",
        "url = \"https://drive.google.com/file/d/1OhtkQS2fwOYdzfd-qPh7im35iLc-L9TA/view?usp=sharing\" \n",
        "path = \"https://drive.google.com/uc?export=download&id=\"+url.split(\"/\")[-2]\n",
        "orderlines_cl = pd.read_csv(path)\n",
        "\n",
        "# products_cl.csv\n",
        "url = \"https://drive.google.com/file/d/1s7Lai4NSlsYjGEPg1QSOUJobNYVsZBOJ/view?usp=sharing\" \n",
        "path = \"https://drive.google.com/uc?export=download&id=\"+url.split(\"/\")[-2]\n",
        "products_cl = pd.read_csv(path)"
      ]
    },
    {
      "cell_type": "markdown",
      "metadata": {
        "id": "GjQD8WPe6h0i"
      },
      "source": [
        "## 1.&nbsp; Define Pandas display format"
      ]
    },
    {
      "cell_type": "code",
      "execution_count": 10,
      "metadata": {
        "colab": {
          "base_uri": "https://localhost:8080/",
          "height": 423
        },
        "id": "SLikKmNx4WNo",
        "outputId": "60e51266-11ea-4e03-ac59-8dbf61e13b85"
      },
      "outputs": [
        {
          "data": {
            "text/html": [
              "<div>\n",
              "<style scoped>\n",
              "    .dataframe tbody tr th:only-of-type {\n",
              "        vertical-align: middle;\n",
              "    }\n",
              "\n",
              "    .dataframe tbody tr th {\n",
              "        vertical-align: top;\n",
              "    }\n",
              "\n",
              "    .dataframe thead th {\n",
              "        text-align: right;\n",
              "    }\n",
              "</style>\n",
              "<table border=\"1\" class=\"dataframe\">\n",
              "  <thead>\n",
              "    <tr style=\"text-align: right;\">\n",
              "      <th></th>\n",
              "      <th>sku</th>\n",
              "      <th>name</th>\n",
              "      <th>desc</th>\n",
              "      <th>price</th>\n",
              "      <th>in_stock</th>\n",
              "      <th>type</th>\n",
              "    </tr>\n",
              "  </thead>\n",
              "  <tbody>\n",
              "    <tr>\n",
              "      <th>0</th>\n",
              "      <td>RAI0007</td>\n",
              "      <td>Silver Rain Design mStand Support</td>\n",
              "      <td>Aluminum support compatible with all MacBook</td>\n",
              "      <td>59.99</td>\n",
              "      <td>1</td>\n",
              "      <td>8696</td>\n",
              "    </tr>\n",
              "    <tr>\n",
              "      <th>1</th>\n",
              "      <td>APP0023</td>\n",
              "      <td>Apple Mac Keyboard Keypad Spanish</td>\n",
              "      <td>USB ultrathin keyboard Apple Mac Spanish.</td>\n",
              "      <td>59.00</td>\n",
              "      <td>0</td>\n",
              "      <td>13855401</td>\n",
              "    </tr>\n",
              "    <tr>\n",
              "      <th>2</th>\n",
              "      <td>APP0025</td>\n",
              "      <td>Mighty Mouse Apple Mouse for Mac</td>\n",
              "      <td>mouse Apple USB cable.</td>\n",
              "      <td>59.00</td>\n",
              "      <td>0</td>\n",
              "      <td>1387</td>\n",
              "    </tr>\n",
              "    <tr>\n",
              "      <th>3</th>\n",
              "      <td>APP0072</td>\n",
              "      <td>Apple Dock to USB Cable iPhone and iPod white</td>\n",
              "      <td>IPhone dock and USB Cable Apple iPod.</td>\n",
              "      <td>25.00</td>\n",
              "      <td>0</td>\n",
              "      <td>1230</td>\n",
              "    </tr>\n",
              "    <tr>\n",
              "      <th>4</th>\n",
              "      <td>KIN0007</td>\n",
              "      <td>Mac Memory Kingston 2GB 667MHz DDR2 SO-DIMM</td>\n",
              "      <td>2GB RAM Mac mini and iMac (2006/07) MacBook Pr...</td>\n",
              "      <td>34.99</td>\n",
              "      <td>1</td>\n",
              "      <td>1364</td>\n",
              "    </tr>\n",
              "    <tr>\n",
              "      <th>...</th>\n",
              "      <td>...</td>\n",
              "      <td>...</td>\n",
              "      <td>...</td>\n",
              "      <td>...</td>\n",
              "      <td>...</td>\n",
              "      <td>...</td>\n",
              "    </tr>\n",
              "    <tr>\n",
              "      <th>9987</th>\n",
              "      <td>BEL0376</td>\n",
              "      <td>Belkin Travel Support Apple Watch Black</td>\n",
              "      <td>compact and portable stand vertically or horiz...</td>\n",
              "      <td>29.99</td>\n",
              "      <td>1</td>\n",
              "      <td>12282</td>\n",
              "    </tr>\n",
              "    <tr>\n",
              "      <th>9988</th>\n",
              "      <td>THU0060</td>\n",
              "      <td>Enroute Thule 14L Backpack MacBook 13 \"Black</td>\n",
              "      <td>Backpack with capacity of 14 liter compartment...</td>\n",
              "      <td>69.95</td>\n",
              "      <td>1</td>\n",
              "      <td>1392</td>\n",
              "    </tr>\n",
              "    <tr>\n",
              "      <th>9989</th>\n",
              "      <td>THU0061</td>\n",
              "      <td>Enroute Thule 14L Backpack MacBook 13 \"Blue</td>\n",
              "      <td>Backpack with capacity of 14 liter compartment...</td>\n",
              "      <td>69.95</td>\n",
              "      <td>1</td>\n",
              "      <td>1392</td>\n",
              "    </tr>\n",
              "    <tr>\n",
              "      <th>9990</th>\n",
              "      <td>THU0062</td>\n",
              "      <td>Enroute Thule 14L Backpack MacBook 13 \"Red</td>\n",
              "      <td>Backpack with capacity of 14 liter compartment...</td>\n",
              "      <td>69.95</td>\n",
              "      <td>0</td>\n",
              "      <td>1392</td>\n",
              "    </tr>\n",
              "    <tr>\n",
              "      <th>9991</th>\n",
              "      <td>THU0063</td>\n",
              "      <td>Enroute Thule 14L Backpack MacBook 13 \"Green</td>\n",
              "      <td>Backpack with capacity of 14 liter compartment...</td>\n",
              "      <td>69.95</td>\n",
              "      <td>1</td>\n",
              "      <td>1392</td>\n",
              "    </tr>\n",
              "  </tbody>\n",
              "</table>\n",
              "<p>9992 rows × 6 columns</p>\n",
              "</div>"
            ],
            "text/plain": [
              "          sku                                           name  \\\n",
              "0     RAI0007              Silver Rain Design mStand Support   \n",
              "1     APP0023              Apple Mac Keyboard Keypad Spanish   \n",
              "2     APP0025               Mighty Mouse Apple Mouse for Mac   \n",
              "3     APP0072  Apple Dock to USB Cable iPhone and iPod white   \n",
              "4     KIN0007    Mac Memory Kingston 2GB 667MHz DDR2 SO-DIMM   \n",
              "...       ...                                            ...   \n",
              "9987  BEL0376        Belkin Travel Support Apple Watch Black   \n",
              "9988  THU0060   Enroute Thule 14L Backpack MacBook 13 \"Black   \n",
              "9989  THU0061    Enroute Thule 14L Backpack MacBook 13 \"Blue   \n",
              "9990  THU0062     Enroute Thule 14L Backpack MacBook 13 \"Red   \n",
              "9991  THU0063   Enroute Thule 14L Backpack MacBook 13 \"Green   \n",
              "\n",
              "                                                   desc  price  in_stock  \\\n",
              "0          Aluminum support compatible with all MacBook  59.99         1   \n",
              "1             USB ultrathin keyboard Apple Mac Spanish.  59.00         0   \n",
              "2                                mouse Apple USB cable.  59.00         0   \n",
              "3                 IPhone dock and USB Cable Apple iPod.  25.00         0   \n",
              "4     2GB RAM Mac mini and iMac (2006/07) MacBook Pr...  34.99         1   \n",
              "...                                                 ...    ...       ...   \n",
              "9987  compact and portable stand vertically or horiz...  29.99         1   \n",
              "9988  Backpack with capacity of 14 liter compartment...  69.95         1   \n",
              "9989  Backpack with capacity of 14 liter compartment...  69.95         1   \n",
              "9990  Backpack with capacity of 14 liter compartment...  69.95         0   \n",
              "9991  Backpack with capacity of 14 liter compartment...  69.95         1   \n",
              "\n",
              "          type  \n",
              "0         8696  \n",
              "1     13855401  \n",
              "2         1387  \n",
              "3         1230  \n",
              "4         1364  \n",
              "...        ...  \n",
              "9987     12282  \n",
              "9988      1392  \n",
              "9989      1392  \n",
              "9990      1392  \n",
              "9991      1392  \n",
              "\n",
              "[9992 rows x 6 columns]"
            ]
          },
          "execution_count": 10,
          "metadata": {},
          "output_type": "execute_result"
        }
      ],
      "source": [
        "# your code here\n",
        "pd.set_option('display.float_format', lambda x: '%.2f' % x)\n",
        "pd.set_option('display.max_rows', 1000)\n",
        "products_cl"
      ]
    },
    {
      "cell_type": "code",
      "execution_count": 11,
      "metadata": {
        "colab": {
          "base_uri": "https://localhost:8080/",
          "height": 423
        },
        "id": "HtHR2eR8DtCN",
        "outputId": "ed209a6b-a279-4fb9-84db-9c3552a58acd"
      },
      "outputs": [
        {
          "data": {
            "text/html": [
              "<div>\n",
              "<style scoped>\n",
              "    .dataframe tbody tr th:only-of-type {\n",
              "        vertical-align: middle;\n",
              "    }\n",
              "\n",
              "    .dataframe tbody tr th {\n",
              "        vertical-align: top;\n",
              "    }\n",
              "\n",
              "    .dataframe thead th {\n",
              "        text-align: right;\n",
              "    }\n",
              "</style>\n",
              "<table border=\"1\" class=\"dataframe\">\n",
              "  <thead>\n",
              "    <tr style=\"text-align: right;\">\n",
              "      <th></th>\n",
              "      <th>id</th>\n",
              "      <th>id_order</th>\n",
              "      <th>product_id</th>\n",
              "      <th>product_quantity</th>\n",
              "      <th>sku</th>\n",
              "      <th>unit_price</th>\n",
              "      <th>date</th>\n",
              "    </tr>\n",
              "  </thead>\n",
              "  <tbody>\n",
              "    <tr>\n",
              "      <th>0</th>\n",
              "      <td>1119109</td>\n",
              "      <td>299539</td>\n",
              "      <td>0</td>\n",
              "      <td>1</td>\n",
              "      <td>OTT0133</td>\n",
              "      <td>18.99</td>\n",
              "      <td>2017-01-01 00:07:19</td>\n",
              "    </tr>\n",
              "    <tr>\n",
              "      <th>1</th>\n",
              "      <td>1119110</td>\n",
              "      <td>299540</td>\n",
              "      <td>0</td>\n",
              "      <td>1</td>\n",
              "      <td>LGE0043</td>\n",
              "      <td>399.00</td>\n",
              "      <td>2017-01-01 00:19:45</td>\n",
              "    </tr>\n",
              "    <tr>\n",
              "      <th>2</th>\n",
              "      <td>1119111</td>\n",
              "      <td>299541</td>\n",
              "      <td>0</td>\n",
              "      <td>1</td>\n",
              "      <td>PAR0071</td>\n",
              "      <td>474.05</td>\n",
              "      <td>2017-01-01 00:20:57</td>\n",
              "    </tr>\n",
              "    <tr>\n",
              "      <th>3</th>\n",
              "      <td>1119112</td>\n",
              "      <td>299542</td>\n",
              "      <td>0</td>\n",
              "      <td>1</td>\n",
              "      <td>WDT0315</td>\n",
              "      <td>68.39</td>\n",
              "      <td>2017-01-01 00:51:40</td>\n",
              "    </tr>\n",
              "    <tr>\n",
              "      <th>4</th>\n",
              "      <td>1119113</td>\n",
              "      <td>299543</td>\n",
              "      <td>0</td>\n",
              "      <td>1</td>\n",
              "      <td>JBL0104</td>\n",
              "      <td>23.74</td>\n",
              "      <td>2017-01-01 01:06:38</td>\n",
              "    </tr>\n",
              "    <tr>\n",
              "      <th>...</th>\n",
              "      <td>...</td>\n",
              "      <td>...</td>\n",
              "      <td>...</td>\n",
              "      <td>...</td>\n",
              "      <td>...</td>\n",
              "      <td>...</td>\n",
              "      <td>...</td>\n",
              "    </tr>\n",
              "    <tr>\n",
              "      <th>216245</th>\n",
              "      <td>1650199</td>\n",
              "      <td>527398</td>\n",
              "      <td>0</td>\n",
              "      <td>1</td>\n",
              "      <td>JBL0122</td>\n",
              "      <td>42.99</td>\n",
              "      <td>2018-03-14 13:57:25</td>\n",
              "    </tr>\n",
              "    <tr>\n",
              "      <th>216246</th>\n",
              "      <td>1650200</td>\n",
              "      <td>527399</td>\n",
              "      <td>0</td>\n",
              "      <td>1</td>\n",
              "      <td>PAC0653</td>\n",
              "      <td>141.58</td>\n",
              "      <td>2018-03-14 13:57:34</td>\n",
              "    </tr>\n",
              "    <tr>\n",
              "      <th>216247</th>\n",
              "      <td>1650201</td>\n",
              "      <td>527400</td>\n",
              "      <td>0</td>\n",
              "      <td>2</td>\n",
              "      <td>APP0698</td>\n",
              "      <td>9.99</td>\n",
              "      <td>2018-03-14 13:57:41</td>\n",
              "    </tr>\n",
              "    <tr>\n",
              "      <th>216248</th>\n",
              "      <td>1650202</td>\n",
              "      <td>527388</td>\n",
              "      <td>0</td>\n",
              "      <td>1</td>\n",
              "      <td>BEZ0204</td>\n",
              "      <td>19.99</td>\n",
              "      <td>2018-03-14 13:58:01</td>\n",
              "    </tr>\n",
              "    <tr>\n",
              "      <th>216249</th>\n",
              "      <td>1650203</td>\n",
              "      <td>527401</td>\n",
              "      <td>0</td>\n",
              "      <td>1</td>\n",
              "      <td>APP0927</td>\n",
              "      <td>13.99</td>\n",
              "      <td>2018-03-14 13:58:36</td>\n",
              "    </tr>\n",
              "  </tbody>\n",
              "</table>\n",
              "<p>216250 rows × 7 columns</p>\n",
              "</div>"
            ],
            "text/plain": [
              "             id  id_order  product_id  product_quantity      sku  unit_price  \\\n",
              "0       1119109    299539           0                 1  OTT0133       18.99   \n",
              "1       1119110    299540           0                 1  LGE0043      399.00   \n",
              "2       1119111    299541           0                 1  PAR0071      474.05   \n",
              "3       1119112    299542           0                 1  WDT0315       68.39   \n",
              "4       1119113    299543           0                 1  JBL0104       23.74   \n",
              "...         ...       ...         ...               ...      ...         ...   \n",
              "216245  1650199    527398           0                 1  JBL0122       42.99   \n",
              "216246  1650200    527399           0                 1  PAC0653      141.58   \n",
              "216247  1650201    527400           0                 2  APP0698        9.99   \n",
              "216248  1650202    527388           0                 1  BEZ0204       19.99   \n",
              "216249  1650203    527401           0                 1  APP0927       13.99   \n",
              "\n",
              "                       date  \n",
              "0       2017-01-01 00:07:19  \n",
              "1       2017-01-01 00:19:45  \n",
              "2       2017-01-01 00:20:57  \n",
              "3       2017-01-01 00:51:40  \n",
              "4       2017-01-01 01:06:38  \n",
              "...                     ...  \n",
              "216245  2018-03-14 13:57:25  \n",
              "216246  2018-03-14 13:57:34  \n",
              "216247  2018-03-14 13:57:41  \n",
              "216248  2018-03-14 13:58:01  \n",
              "216249  2018-03-14 13:58:36  \n",
              "\n",
              "[216250 rows x 7 columns]"
            ]
          },
          "execution_count": 11,
          "metadata": {},
          "output_type": "execute_result"
        }
      ],
      "source": [
        "orderlines_cl"
      ]
    },
    {
      "cell_type": "code",
      "execution_count": 12,
      "metadata": {
        "colab": {
          "base_uri": "https://localhost:8080/",
          "height": 423
        },
        "id": "qU5SvjG4D2ss",
        "outputId": "02db2a4c-8ed8-46a5-e267-ca291dbec099"
      },
      "outputs": [
        {
          "data": {
            "text/html": [
              "<div>\n",
              "<style scoped>\n",
              "    .dataframe tbody tr th:only-of-type {\n",
              "        vertical-align: middle;\n",
              "    }\n",
              "\n",
              "    .dataframe tbody tr th {\n",
              "        vertical-align: top;\n",
              "    }\n",
              "\n",
              "    .dataframe thead th {\n",
              "        text-align: right;\n",
              "    }\n",
              "</style>\n",
              "<table border=\"1\" class=\"dataframe\">\n",
              "  <thead>\n",
              "    <tr style=\"text-align: right;\">\n",
              "      <th></th>\n",
              "      <th>order_id</th>\n",
              "      <th>created_date</th>\n",
              "      <th>total_paid</th>\n",
              "      <th>state</th>\n",
              "    </tr>\n",
              "  </thead>\n",
              "  <tbody>\n",
              "    <tr>\n",
              "      <th>0</th>\n",
              "      <td>241319</td>\n",
              "      <td>2017-01-02 13:35:40</td>\n",
              "      <td>44.99</td>\n",
              "      <td>Cancelled</td>\n",
              "    </tr>\n",
              "    <tr>\n",
              "      <th>1</th>\n",
              "      <td>241423</td>\n",
              "      <td>2017-11-06 13:10:02</td>\n",
              "      <td>136.15</td>\n",
              "      <td>Completed</td>\n",
              "    </tr>\n",
              "    <tr>\n",
              "      <th>2</th>\n",
              "      <td>242832</td>\n",
              "      <td>2017-12-31 17:40:03</td>\n",
              "      <td>15.76</td>\n",
              "      <td>Completed</td>\n",
              "    </tr>\n",
              "    <tr>\n",
              "      <th>3</th>\n",
              "      <td>243330</td>\n",
              "      <td>2017-02-16 10:59:38</td>\n",
              "      <td>84.98</td>\n",
              "      <td>Completed</td>\n",
              "    </tr>\n",
              "    <tr>\n",
              "      <th>4</th>\n",
              "      <td>243784</td>\n",
              "      <td>2017-11-24 13:35:19</td>\n",
              "      <td>157.86</td>\n",
              "      <td>Cancelled</td>\n",
              "    </tr>\n",
              "    <tr>\n",
              "      <th>...</th>\n",
              "      <td>...</td>\n",
              "      <td>...</td>\n",
              "      <td>...</td>\n",
              "      <td>...</td>\n",
              "    </tr>\n",
              "    <tr>\n",
              "      <th>226899</th>\n",
              "      <td>527397</td>\n",
              "      <td>2018-03-14 13:56:38</td>\n",
              "      <td>42.99</td>\n",
              "      <td>Place Order</td>\n",
              "    </tr>\n",
              "    <tr>\n",
              "      <th>226900</th>\n",
              "      <td>527398</td>\n",
              "      <td>2018-03-14 13:57:25</td>\n",
              "      <td>42.99</td>\n",
              "      <td>Shopping Basket</td>\n",
              "    </tr>\n",
              "    <tr>\n",
              "      <th>226901</th>\n",
              "      <td>527399</td>\n",
              "      <td>2018-03-14 13:57:34</td>\n",
              "      <td>141.58</td>\n",
              "      <td>Shopping Basket</td>\n",
              "    </tr>\n",
              "    <tr>\n",
              "      <th>226902</th>\n",
              "      <td>527400</td>\n",
              "      <td>2018-03-14 13:57:41</td>\n",
              "      <td>19.98</td>\n",
              "      <td>Shopping Basket</td>\n",
              "    </tr>\n",
              "    <tr>\n",
              "      <th>226903</th>\n",
              "      <td>527401</td>\n",
              "      <td>2018-03-14 13:58:36</td>\n",
              "      <td>18.98</td>\n",
              "      <td>Place Order</td>\n",
              "    </tr>\n",
              "  </tbody>\n",
              "</table>\n",
              "<p>226904 rows × 4 columns</p>\n",
              "</div>"
            ],
            "text/plain": [
              "        order_id         created_date  total_paid            state\n",
              "0         241319  2017-01-02 13:35:40       44.99        Cancelled\n",
              "1         241423  2017-11-06 13:10:02      136.15        Completed\n",
              "2         242832  2017-12-31 17:40:03       15.76        Completed\n",
              "3         243330  2017-02-16 10:59:38       84.98        Completed\n",
              "4         243784  2017-11-24 13:35:19      157.86        Cancelled\n",
              "...          ...                  ...         ...              ...\n",
              "226899    527397  2018-03-14 13:56:38       42.99      Place Order\n",
              "226900    527398  2018-03-14 13:57:25       42.99  Shopping Basket\n",
              "226901    527399  2018-03-14 13:57:34      141.58  Shopping Basket\n",
              "226902    527400  2018-03-14 13:57:41       19.98  Shopping Basket\n",
              "226903    527401  2018-03-14 13:58:36       18.98      Place Order\n",
              "\n",
              "[226904 rows x 4 columns]"
            ]
          },
          "execution_count": 12,
          "metadata": {},
          "output_type": "execute_result"
        }
      ],
      "source": [
        "orders_cl"
      ]
    },
    {
      "cell_type": "code",
      "execution_count": null,
      "metadata": {
        "id": "vyABU572LuAm"
      },
      "outputs": [],
      "source": []
    },
    {
      "cell_type": "markdown",
      "metadata": {
        "id": "M0NhTKzF6jV4"
      },
      "source": [
        "## 2.&nbsp; Exclude unwanted orders"
      ]
    },
    {
      "cell_type": "code",
      "execution_count": 14,
      "metadata": {
        "colab": {
          "base_uri": "https://localhost:8080/"
        },
        "id": "ja0XpsDDkZrT",
        "outputId": "a5454710-3407-414e-97a5-0656503a7047"
      },
      "outputs": [
        {
          "name": "stdout",
          "output_type": "stream",
          "text": [
            "<class 'pandas.core.frame.DataFrame'>\n",
            "Int64Index: 46605 entries, 1 to 226614\n",
            "Data columns (total 4 columns):\n",
            " #   Column        Non-Null Count  Dtype  \n",
            "---  ------        --------------  -----  \n",
            " 0   order_id      46605 non-null  int64  \n",
            " 1   created_date  46605 non-null  object \n",
            " 2   total_paid    46605 non-null  float64\n",
            " 3   state         46605 non-null  object \n",
            "dtypes: float64(1), int64(1), object(2)\n",
            "memory usage: 1.8+ MB\n"
          ]
        }
      ],
      "source": [
        "# your code here\n",
        "# orders_cl['completed_orders']\n",
        "#calculate percentage of each category in state column\n",
        "\n",
        "orders_cl['state'].value_counts(normalize=True) * 100\n",
        "orders_cl = orders_cl[orders_cl['state'] == 'Completed']\n",
        "orders_cl.info()\n",
        "\n",
        "\n",
        "\n",
        "\n",
        "\n"
      ]
    },
    {
      "cell_type": "code",
      "execution_count": 15,
      "metadata": {},
      "outputs": [],
      "source": [
        "ol_df = orderlines_cl.copy()\n",
        "ol_df\n",
        "orders_df = orders_cl.copy()\n",
        "orders_df\n",
        "products_df = products_cl.copy()"
      ]
    },
    {
      "cell_type": "code",
      "execution_count": 16,
      "metadata": {},
      "outputs": [
        {
          "name": "stdout",
          "output_type": "stream",
          "text": [
            "<class 'pandas.core.frame.DataFrame'>\n",
            "Int64Index: 56714 entries, 0 to 56713\n",
            "Data columns (total 11 columns):\n",
            " #   Column            Non-Null Count  Dtype  \n",
            "---  ------            --------------  -----  \n",
            " 0   order_id          56714 non-null  int64  \n",
            " 1   created_date      56714 non-null  object \n",
            " 2   total_paid        56714 non-null  float64\n",
            " 3   state             56714 non-null  object \n",
            " 4   id                56714 non-null  int64  \n",
            " 5   id_order          56714 non-null  int64  \n",
            " 6   product_id        56714 non-null  int64  \n",
            " 7   product_quantity  56714 non-null  int64  \n",
            " 8   sku               56714 non-null  object \n",
            " 9   unit_price        56714 non-null  float64\n",
            " 10  date              56714 non-null  object \n",
            "dtypes: float64(2), int64(5), object(4)\n",
            "memory usage: 5.2+ MB\n"
          ]
        }
      ],
      "source": [
        "#merge orders_df and ol_df \n",
        "merged_orders = orders_df.merge(ol_df, left_on='order_id', right_on='id_order')\n",
        "merged_orders.info()"
      ]
    },
    {
      "cell_type": "markdown",
      "metadata": {
        "id": "F-rtzwAn7WyS"
      },
      "source": [
        "## 3.&nbsp; Exclude orders with unknown products\n"
      ]
    },
    {
      "cell_type": "code",
      "execution_count": 17,
      "metadata": {
        "id": "EkNqtrfdJGAW"
      },
      "outputs": [
        {
          "name": "stdout",
          "output_type": "stream",
          "text": [
            "<class 'pandas.core.frame.DataFrame'>\n",
            "Int64Index: 60144 entries, 0 to 60143\n",
            "Data columns (total 16 columns):\n",
            " #   Column            Non-Null Count  Dtype  \n",
            "---  ------            --------------  -----  \n",
            " 0   sku               60144 non-null  object \n",
            " 1   name              60144 non-null  object \n",
            " 2   desc              60144 non-null  object \n",
            " 3   price             60144 non-null  float64\n",
            " 4   in_stock          60144 non-null  int64  \n",
            " 5   type              60094 non-null  object \n",
            " 6   order_id          55320 non-null  float64\n",
            " 7   created_date      55320 non-null  object \n",
            " 8   total_paid        55320 non-null  float64\n",
            " 9   state             55320 non-null  object \n",
            " 10  id                55320 non-null  float64\n",
            " 11  id_order          55320 non-null  float64\n",
            " 12  product_id        55320 non-null  float64\n",
            " 13  product_quantity  55320 non-null  float64\n",
            " 14  unit_price        55320 non-null  float64\n",
            " 15  date              55320 non-null  object \n",
            "dtypes: float64(8), int64(1), object(7)\n",
            "memory usage: 7.8+ MB\n"
          ]
        }
      ],
      "source": [
        "# your code here\n",
        "products_merge = products_df.merge(merged_orders, how='left', on='sku')\n",
        "products_merge.info()"
      ]
    },
    {
      "cell_type": "code",
      "execution_count": 18,
      "metadata": {},
      "outputs": [
        {
          "name": "stdout",
          "output_type": "stream",
          "text": [
            "<class 'pandas.core.frame.DataFrame'>\n",
            "Int64Index: 56714 entries, 0 to 56713\n",
            "Data columns (total 11 columns):\n",
            " #   Column            Non-Null Count  Dtype  \n",
            "---  ------            --------------  -----  \n",
            " 0   order_id          56714 non-null  int64  \n",
            " 1   created_date      56714 non-null  object \n",
            " 2   total_paid        56714 non-null  float64\n",
            " 3   state             56714 non-null  object \n",
            " 4   id                56714 non-null  int64  \n",
            " 5   id_order          56714 non-null  int64  \n",
            " 6   product_id        56714 non-null  int64  \n",
            " 7   product_quantity  56714 non-null  int64  \n",
            " 8   sku               56714 non-null  object \n",
            " 9   unit_price        56714 non-null  float64\n",
            " 10  date              56714 non-null  object \n",
            "dtypes: float64(2), int64(5), object(4)\n",
            "memory usage: 5.2+ MB\n"
          ]
        }
      ],
      "source": [
        "merged_orders.info() #sku 56714 rows"
      ]
    },
    {
      "cell_type": "code",
      "execution_count": 21,
      "metadata": {},
      "outputs": [
        {
          "name": "stdout",
          "output_type": "stream",
          "text": [
            "<class 'pandas.core.frame.DataFrame'>\n",
            "Int64Index: 5168 entries, 0 to 9968\n",
            "Data columns (total 6 columns):\n",
            " #   Column    Non-Null Count  Dtype  \n",
            "---  ------    --------------  -----  \n",
            " 0   sku       5168 non-null   object \n",
            " 1   name      5168 non-null   object \n",
            " 2   desc      5168 non-null   object \n",
            " 3   price     5168 non-null   float64\n",
            " 4   in_stock  5168 non-null   int64  \n",
            " 5   type      5159 non-null   object \n",
            "dtypes: float64(1), int64(1), object(4)\n",
            "memory usage: 282.6+ KB\n"
          ]
        }
      ],
      "source": [
        "# create a list of unique product values from merged_orders\n",
        "unique_products_list = merged_orders['sku'].unique()\n",
        "#filter products that match to a product list in products_df\n",
        "products_merge = products_df[products_df['sku'].isin(unique_products_list)]\n",
        "products_merge.info() #5168 rows in sku\n"
      ]
    },
    {
      "cell_type": "code",
      "execution_count": 22,
      "metadata": {},
      "outputs": [
        {
          "name": "stdout",
          "output_type": "stream",
          "text": [
            "<class 'pandas.core.frame.DataFrame'>\n",
            "RangeIndex: 9992 entries, 0 to 9991\n",
            "Data columns (total 6 columns):\n",
            " #   Column    Non-Null Count  Dtype  \n",
            "---  ------    --------------  -----  \n",
            " 0   sku       9992 non-null   object \n",
            " 1   name      9992 non-null   object \n",
            " 2   desc      9992 non-null   object \n",
            " 3   price     9992 non-null   float64\n",
            " 4   in_stock  9992 non-null   int64  \n",
            " 5   type      9946 non-null   object \n",
            "dtypes: float64(1), int64(1), object(4)\n",
            "memory usage: 468.5+ KB\n"
          ]
        }
      ],
      "source": [
        "products_df.info() # sku 9992 rows"
      ]
    },
    {
      "cell_type": "markdown",
      "metadata": {
        "id": "bCLu78B07gN1"
      },
      "source": [
        "## 4.&nbsp; Explore the revenue from different tables"
      ]
    },
    {
      "cell_type": "markdown",
      "metadata": {
        "id": "CrmrCXypbflw"
      },
      "source": [
        "#### Step 1:\n",
        "Create the `unit_price_total` as `orderlines.unit_price` * `orderlines.product_quantity`"
      ]
    },
    {
      "cell_type": "code",
      "execution_count": 25,
      "metadata": {
        "id": "c8MApY6jatlO"
      },
      "outputs": [
        {
          "data": {
            "text/html": [
              "<div>\n",
              "<style scoped>\n",
              "    .dataframe tbody tr th:only-of-type {\n",
              "        vertical-align: middle;\n",
              "    }\n",
              "\n",
              "    .dataframe tbody tr th {\n",
              "        vertical-align: top;\n",
              "    }\n",
              "\n",
              "    .dataframe thead th {\n",
              "        text-align: right;\n",
              "    }\n",
              "</style>\n",
              "<table border=\"1\" class=\"dataframe\">\n",
              "  <thead>\n",
              "    <tr style=\"text-align: right;\">\n",
              "      <th></th>\n",
              "      <th>id</th>\n",
              "      <th>id_order</th>\n",
              "      <th>product_id</th>\n",
              "      <th>product_quantity</th>\n",
              "      <th>sku</th>\n",
              "      <th>unit_price</th>\n",
              "      <th>date</th>\n",
              "    </tr>\n",
              "  </thead>\n",
              "  <tbody>\n",
              "    <tr>\n",
              "      <th>0</th>\n",
              "      <td>1119109</td>\n",
              "      <td>299539</td>\n",
              "      <td>0</td>\n",
              "      <td>1</td>\n",
              "      <td>OTT0133</td>\n",
              "      <td>18.99</td>\n",
              "      <td>2017-01-01 00:07:19</td>\n",
              "    </tr>\n",
              "    <tr>\n",
              "      <th>1</th>\n",
              "      <td>1119110</td>\n",
              "      <td>299540</td>\n",
              "      <td>0</td>\n",
              "      <td>1</td>\n",
              "      <td>LGE0043</td>\n",
              "      <td>399.00</td>\n",
              "      <td>2017-01-01 00:19:45</td>\n",
              "    </tr>\n",
              "    <tr>\n",
              "      <th>2</th>\n",
              "      <td>1119111</td>\n",
              "      <td>299541</td>\n",
              "      <td>0</td>\n",
              "      <td>1</td>\n",
              "      <td>PAR0071</td>\n",
              "      <td>474.05</td>\n",
              "      <td>2017-01-01 00:20:57</td>\n",
              "    </tr>\n",
              "    <tr>\n",
              "      <th>3</th>\n",
              "      <td>1119112</td>\n",
              "      <td>299542</td>\n",
              "      <td>0</td>\n",
              "      <td>1</td>\n",
              "      <td>WDT0315</td>\n",
              "      <td>68.39</td>\n",
              "      <td>2017-01-01 00:51:40</td>\n",
              "    </tr>\n",
              "    <tr>\n",
              "      <th>4</th>\n",
              "      <td>1119113</td>\n",
              "      <td>299543</td>\n",
              "      <td>0</td>\n",
              "      <td>1</td>\n",
              "      <td>JBL0104</td>\n",
              "      <td>23.74</td>\n",
              "      <td>2017-01-01 01:06:38</td>\n",
              "    </tr>\n",
              "    <tr>\n",
              "      <th>...</th>\n",
              "      <td>...</td>\n",
              "      <td>...</td>\n",
              "      <td>...</td>\n",
              "      <td>...</td>\n",
              "      <td>...</td>\n",
              "      <td>...</td>\n",
              "      <td>...</td>\n",
              "    </tr>\n",
              "    <tr>\n",
              "      <th>216245</th>\n",
              "      <td>1650199</td>\n",
              "      <td>527398</td>\n",
              "      <td>0</td>\n",
              "      <td>1</td>\n",
              "      <td>JBL0122</td>\n",
              "      <td>42.99</td>\n",
              "      <td>2018-03-14 13:57:25</td>\n",
              "    </tr>\n",
              "    <tr>\n",
              "      <th>216246</th>\n",
              "      <td>1650200</td>\n",
              "      <td>527399</td>\n",
              "      <td>0</td>\n",
              "      <td>1</td>\n",
              "      <td>PAC0653</td>\n",
              "      <td>141.58</td>\n",
              "      <td>2018-03-14 13:57:34</td>\n",
              "    </tr>\n",
              "    <tr>\n",
              "      <th>216247</th>\n",
              "      <td>1650201</td>\n",
              "      <td>527400</td>\n",
              "      <td>0</td>\n",
              "      <td>2</td>\n",
              "      <td>APP0698</td>\n",
              "      <td>9.99</td>\n",
              "      <td>2018-03-14 13:57:41</td>\n",
              "    </tr>\n",
              "    <tr>\n",
              "      <th>216248</th>\n",
              "      <td>1650202</td>\n",
              "      <td>527388</td>\n",
              "      <td>0</td>\n",
              "      <td>1</td>\n",
              "      <td>BEZ0204</td>\n",
              "      <td>19.99</td>\n",
              "      <td>2018-03-14 13:58:01</td>\n",
              "    </tr>\n",
              "    <tr>\n",
              "      <th>216249</th>\n",
              "      <td>1650203</td>\n",
              "      <td>527401</td>\n",
              "      <td>0</td>\n",
              "      <td>1</td>\n",
              "      <td>APP0927</td>\n",
              "      <td>13.99</td>\n",
              "      <td>2018-03-14 13:58:36</td>\n",
              "    </tr>\n",
              "  </tbody>\n",
              "</table>\n",
              "<p>216250 rows × 7 columns</p>\n",
              "</div>"
            ],
            "text/plain": [
              "             id  id_order  product_id  product_quantity      sku  unit_price  \\\n",
              "0       1119109    299539           0                 1  OTT0133       18.99   \n",
              "1       1119110    299540           0                 1  LGE0043      399.00   \n",
              "2       1119111    299541           0                 1  PAR0071      474.05   \n",
              "3       1119112    299542           0                 1  WDT0315       68.39   \n",
              "4       1119113    299543           0                 1  JBL0104       23.74   \n",
              "...         ...       ...         ...               ...      ...         ...   \n",
              "216245  1650199    527398           0                 1  JBL0122       42.99   \n",
              "216246  1650200    527399           0                 1  PAC0653      141.58   \n",
              "216247  1650201    527400           0                 2  APP0698        9.99   \n",
              "216248  1650202    527388           0                 1  BEZ0204       19.99   \n",
              "216249  1650203    527401           0                 1  APP0927       13.99   \n",
              "\n",
              "                       date  \n",
              "0       2017-01-01 00:07:19  \n",
              "1       2017-01-01 00:19:45  \n",
              "2       2017-01-01 00:20:57  \n",
              "3       2017-01-01 00:51:40  \n",
              "4       2017-01-01 01:06:38  \n",
              "...                     ...  \n",
              "216245  2018-03-14 13:57:25  \n",
              "216246  2018-03-14 13:57:34  \n",
              "216247  2018-03-14 13:57:41  \n",
              "216248  2018-03-14 13:58:01  \n",
              "216249  2018-03-14 13:58:36  \n",
              "\n",
              "[216250 rows x 7 columns]"
            ]
          },
          "execution_count": 25,
          "metadata": {},
          "output_type": "execute_result"
        }
      ],
      "source": [
        "# your code here\n",
        "ol_df\n",
        "\n"
      ]
    },
    {
      "cell_type": "code",
      "execution_count": 40,
      "metadata": {},
      "outputs": [
        {
          "data": {
            "text/html": [
              "<div>\n",
              "<style scoped>\n",
              "    .dataframe tbody tr th:only-of-type {\n",
              "        vertical-align: middle;\n",
              "    }\n",
              "\n",
              "    .dataframe tbody tr th {\n",
              "        vertical-align: top;\n",
              "    }\n",
              "\n",
              "    .dataframe thead th {\n",
              "        text-align: right;\n",
              "    }\n",
              "</style>\n",
              "<table border=\"1\" class=\"dataframe\">\n",
              "  <thead>\n",
              "    <tr style=\"text-align: right;\">\n",
              "      <th></th>\n",
              "      <th>id_order</th>\n",
              "      <th>unit_price_total</th>\n",
              "    </tr>\n",
              "  </thead>\n",
              "  <tbody>\n",
              "    <tr>\n",
              "      <th>0</th>\n",
              "      <td>241319</td>\n",
              "      <td>44.99</td>\n",
              "    </tr>\n",
              "    <tr>\n",
              "      <th>1</th>\n",
              "      <td>241355</td>\n",
              "      <td>135.98</td>\n",
              "    </tr>\n",
              "    <tr>\n",
              "      <th>2</th>\n",
              "      <td>241423</td>\n",
              "      <td>129.16</td>\n",
              "    </tr>\n",
              "    <tr>\n",
              "      <th>3</th>\n",
              "      <td>242832</td>\n",
              "      <td>10.77</td>\n",
              "    </tr>\n",
              "    <tr>\n",
              "      <th>4</th>\n",
              "      <td>243330</td>\n",
              "      <td>77.99</td>\n",
              "    </tr>\n",
              "    <tr>\n",
              "      <th>...</th>\n",
              "      <td>...</td>\n",
              "      <td>...</td>\n",
              "    </tr>\n",
              "    <tr>\n",
              "      <th>170208</th>\n",
              "      <td>527397</td>\n",
              "      <td>42.99</td>\n",
              "    </tr>\n",
              "    <tr>\n",
              "      <th>170209</th>\n",
              "      <td>527398</td>\n",
              "      <td>42.99</td>\n",
              "    </tr>\n",
              "    <tr>\n",
              "      <th>170210</th>\n",
              "      <td>527399</td>\n",
              "      <td>141.58</td>\n",
              "    </tr>\n",
              "    <tr>\n",
              "      <th>170211</th>\n",
              "      <td>527400</td>\n",
              "      <td>19.98</td>\n",
              "    </tr>\n",
              "    <tr>\n",
              "      <th>170212</th>\n",
              "      <td>527401</td>\n",
              "      <td>13.99</td>\n",
              "    </tr>\n",
              "  </tbody>\n",
              "</table>\n",
              "<p>170213 rows × 2 columns</p>\n",
              "</div>"
            ],
            "text/plain": [
              "        id_order  unit_price_total\n",
              "0         241319             44.99\n",
              "1         241355            135.98\n",
              "2         241423            129.16\n",
              "3         242832             10.77\n",
              "4         243330             77.99\n",
              "...          ...               ...\n",
              "170208    527397             42.99\n",
              "170209    527398             42.99\n",
              "170210    527399            141.58\n",
              "170211    527400             19.98\n",
              "170212    527401             13.99\n",
              "\n",
              "[170213 rows x 2 columns]"
            ]
          },
          "execution_count": 40,
          "metadata": {},
          "output_type": "execute_result"
        }
      ],
      "source": [
        "\n"
      ]
    },
    {
      "cell_type": "markdown",
      "metadata": {
        "id": "gkvMUjymbvSC"
      },
      "source": [
        "#### Step 2: \n",
        "Group by `order_id`, summarising by the sum of `unit_price_total`"
      ]
    },
    {
      "cell_type": "code",
      "execution_count": 41,
      "metadata": {
        "id": "4hasZA5BaH1k"
      },
      "outputs": [
        {
          "data": {
            "text/html": [
              "<div>\n",
              "<style scoped>\n",
              "    .dataframe tbody tr th:only-of-type {\n",
              "        vertical-align: middle;\n",
              "    }\n",
              "\n",
              "    .dataframe tbody tr th {\n",
              "        vertical-align: top;\n",
              "    }\n",
              "\n",
              "    .dataframe thead th {\n",
              "        text-align: right;\n",
              "    }\n",
              "</style>\n",
              "<table border=\"1\" class=\"dataframe\">\n",
              "  <thead>\n",
              "    <tr style=\"text-align: right;\">\n",
              "      <th></th>\n",
              "      <th>id_order</th>\n",
              "      <th>unit_price_total</th>\n",
              "    </tr>\n",
              "  </thead>\n",
              "  <tbody>\n",
              "    <tr>\n",
              "      <th>0</th>\n",
              "      <td>241319</td>\n",
              "      <td>44.99</td>\n",
              "    </tr>\n",
              "    <tr>\n",
              "      <th>1</th>\n",
              "      <td>241355</td>\n",
              "      <td>135.98</td>\n",
              "    </tr>\n",
              "    <tr>\n",
              "      <th>2</th>\n",
              "      <td>241423</td>\n",
              "      <td>129.16</td>\n",
              "    </tr>\n",
              "    <tr>\n",
              "      <th>3</th>\n",
              "      <td>242832</td>\n",
              "      <td>10.77</td>\n",
              "    </tr>\n",
              "    <tr>\n",
              "      <th>4</th>\n",
              "      <td>243330</td>\n",
              "      <td>77.99</td>\n",
              "    </tr>\n",
              "  </tbody>\n",
              "</table>\n",
              "</div>"
            ],
            "text/plain": [
              "   id_order  unit_price_total\n",
              "0    241319             44.99\n",
              "1    241355            135.98\n",
              "2    241423            129.16\n",
              "3    242832             10.77\n",
              "4    243330             77.99"
            ]
          },
          "execution_count": 41,
          "metadata": {},
          "output_type": "execute_result"
        }
      ],
      "source": [
        "# your code here\n",
        "# your code here\n",
        "#create unit_price_total in ol_df bby unit_proice * product_quantity\n",
        "ol_df['unit_price_total'] = ol_df.unit_price * ol_df.product_quantity\n",
        "#group by id_order, summarizing by the sum of unit_price_total\n",
        "grouped_price = ol_df.groupby('id_order')['unit_price_total'].sum().reset_index()\n",
        "grouped_price.head()"
      ]
    },
    {
      "cell_type": "code",
      "execution_count": 42,
      "metadata": {},
      "outputs": [],
      "source": [
        "# The grouped_price table merged with the orders table to easily compare the numbers:\n",
        "orders_df = orders_df.merge(grouped_price, how='left', left_on='order_id', right_on='id_order')"
      ]
    },
    {
      "cell_type": "code",
      "execution_count": 43,
      "metadata": {},
      "outputs": [
        {
          "data": {
            "text/html": [
              "<div>\n",
              "<style scoped>\n",
              "    .dataframe tbody tr th:only-of-type {\n",
              "        vertical-align: middle;\n",
              "    }\n",
              "\n",
              "    .dataframe tbody tr th {\n",
              "        vertical-align: top;\n",
              "    }\n",
              "\n",
              "    .dataframe thead th {\n",
              "        text-align: right;\n",
              "    }\n",
              "</style>\n",
              "<table border=\"1\" class=\"dataframe\">\n",
              "  <thead>\n",
              "    <tr style=\"text-align: right;\">\n",
              "      <th></th>\n",
              "      <th>order_id</th>\n",
              "      <th>created_date</th>\n",
              "      <th>total_paid</th>\n",
              "      <th>state</th>\n",
              "      <th>id_order</th>\n",
              "      <th>unit_price_total</th>\n",
              "    </tr>\n",
              "  </thead>\n",
              "  <tbody>\n",
              "    <tr>\n",
              "      <th>0</th>\n",
              "      <td>241423</td>\n",
              "      <td>2017-11-06 13:10:02</td>\n",
              "      <td>136.15</td>\n",
              "      <td>Completed</td>\n",
              "      <td>241423.00</td>\n",
              "      <td>129.16</td>\n",
              "    </tr>\n",
              "    <tr>\n",
              "      <th>1</th>\n",
              "      <td>242832</td>\n",
              "      <td>2017-12-31 17:40:03</td>\n",
              "      <td>15.76</td>\n",
              "      <td>Completed</td>\n",
              "      <td>242832.00</td>\n",
              "      <td>10.77</td>\n",
              "    </tr>\n",
              "    <tr>\n",
              "      <th>2</th>\n",
              "      <td>243330</td>\n",
              "      <td>2017-02-16 10:59:38</td>\n",
              "      <td>84.98</td>\n",
              "      <td>Completed</td>\n",
              "      <td>243330.00</td>\n",
              "      <td>77.99</td>\n",
              "    </tr>\n",
              "    <tr>\n",
              "      <th>3</th>\n",
              "      <td>245275</td>\n",
              "      <td>2017-06-28 11:35:37</td>\n",
              "      <td>149.00</td>\n",
              "      <td>Completed</td>\n",
              "      <td>245275.00</td>\n",
              "      <td>149.00</td>\n",
              "    </tr>\n",
              "    <tr>\n",
              "      <th>4</th>\n",
              "      <td>245595</td>\n",
              "      <td>2017-01-21 12:52:47</td>\n",
              "      <td>112.97</td>\n",
              "      <td>Completed</td>\n",
              "      <td>245595.00</td>\n",
              "      <td>105.98</td>\n",
              "    </tr>\n",
              "    <tr>\n",
              "      <th>...</th>\n",
              "      <td>...</td>\n",
              "      <td>...</td>\n",
              "      <td>...</td>\n",
              "      <td>...</td>\n",
              "      <td>...</td>\n",
              "      <td>...</td>\n",
              "    </tr>\n",
              "    <tr>\n",
              "      <th>46600</th>\n",
              "      <td>527042</td>\n",
              "      <td>2018-03-14 11:47:50</td>\n",
              "      <td>18.98</td>\n",
              "      <td>Completed</td>\n",
              "      <td>527042.00</td>\n",
              "      <td>13.99</td>\n",
              "    </tr>\n",
              "    <tr>\n",
              "      <th>46601</th>\n",
              "      <td>527070</td>\n",
              "      <td>2018-03-14 11:50:48</td>\n",
              "      <td>24.97</td>\n",
              "      <td>Completed</td>\n",
              "      <td>527070.00</td>\n",
              "      <td>19.98</td>\n",
              "    </tr>\n",
              "    <tr>\n",
              "      <th>46602</th>\n",
              "      <td>527074</td>\n",
              "      <td>2018-03-14 11:51:42</td>\n",
              "      <td>24.97</td>\n",
              "      <td>Completed</td>\n",
              "      <td>527074.00</td>\n",
              "      <td>19.98</td>\n",
              "    </tr>\n",
              "    <tr>\n",
              "      <th>46603</th>\n",
              "      <td>527096</td>\n",
              "      <td>2018-03-14 11:58:40</td>\n",
              "      <td>34.96</td>\n",
              "      <td>Completed</td>\n",
              "      <td>527096.00</td>\n",
              "      <td>29.97</td>\n",
              "    </tr>\n",
              "    <tr>\n",
              "      <th>46604</th>\n",
              "      <td>527112</td>\n",
              "      <td>2018-03-14 12:03:52</td>\n",
              "      <td>14.98</td>\n",
              "      <td>Completed</td>\n",
              "      <td>527112.00</td>\n",
              "      <td>9.99</td>\n",
              "    </tr>\n",
              "  </tbody>\n",
              "</table>\n",
              "<p>46605 rows × 6 columns</p>\n",
              "</div>"
            ],
            "text/plain": [
              "       order_id         created_date  total_paid      state  id_order  \\\n",
              "0        241423  2017-11-06 13:10:02      136.15  Completed 241423.00   \n",
              "1        242832  2017-12-31 17:40:03       15.76  Completed 242832.00   \n",
              "2        243330  2017-02-16 10:59:38       84.98  Completed 243330.00   \n",
              "3        245275  2017-06-28 11:35:37      149.00  Completed 245275.00   \n",
              "4        245595  2017-01-21 12:52:47      112.97  Completed 245595.00   \n",
              "...         ...                  ...         ...        ...       ...   \n",
              "46600    527042  2018-03-14 11:47:50       18.98  Completed 527042.00   \n",
              "46601    527070  2018-03-14 11:50:48       24.97  Completed 527070.00   \n",
              "46602    527074  2018-03-14 11:51:42       24.97  Completed 527074.00   \n",
              "46603    527096  2018-03-14 11:58:40       34.96  Completed 527096.00   \n",
              "46604    527112  2018-03-14 12:03:52       14.98  Completed 527112.00   \n",
              "\n",
              "       unit_price_total  \n",
              "0                129.16  \n",
              "1                 10.77  \n",
              "2                 77.99  \n",
              "3                149.00  \n",
              "4                105.98  \n",
              "...                 ...  \n",
              "46600             13.99  \n",
              "46601             19.98  \n",
              "46602             19.98  \n",
              "46603             29.97  \n",
              "46604              9.99  \n",
              "\n",
              "[46605 rows x 6 columns]"
            ]
          },
          "execution_count": 43,
          "metadata": {},
          "output_type": "execute_result"
        }
      ],
      "source": [
        "orders_df"
      ]
    },
    {
      "cell_type": "markdown",
      "metadata": {
        "id": "_d1lwist8F6X"
      },
      "source": [
        "### What is the average difference between `total_paid` and `unit_price_total`?"
      ]
    },
    {
      "cell_type": "code",
      "execution_count": 51,
      "metadata": {
        "id": "5N02JPCMgyBU"
      },
      "outputs": [
        {
          "data": {
            "text/plain": [
              "<AxesSubplot:>"
            ]
          },
          "execution_count": 51,
          "metadata": {},
          "output_type": "execute_result"
        },
        {
          "data": {
            "image/png": "[encoded data removed]",
            "text/plain": [
              "<Figure size 640x480 with 1 Axes>"
            ]
          },
          "metadata": {},
          "output_type": "display_data"
        }
      ],
      "source": [
        "# your code here\n",
        "#What is the average difference between total_paid and unit_price_total?\n",
        "orders_df['difference'] = orders_df.total_paid - orders_df.unit_price_total\n",
        "orders_df['difference'].mean()\n",
        "orders_df\n",
        "#What is the distribution of these differences?\n",
        "orders_df['difference'].hist(bins=50)\n",
        "\n",
        "\n"
      ]
    },
    {
      "cell_type": "markdown",
      "metadata": {
        "id": "UpynvRcO8QBr"
      },
      "source": [
        "### What is the distribution of these differences?"
      ]
    },
    {
      "cell_type": "code",
      "execution_count": 49,
      "metadata": {},
      "outputs": [
        {
          "ename": "AttributeError",
          "evalue": "'float' object has no attribute 'round'",
          "output_type": "error",
          "traceback": [
            "\u001b[0;31m---------------------------------------------------------------------------\u001b[0m",
            "\u001b[0;31mAttributeError\u001b[0m                            Traceback (most recent call last)",
            "\u001b[0;32m/var/folders/fv/j2glptx96zv4jxc02f5d5ff40000gn/T/ipykernel_51068/2853333406.py\u001b[0m in \u001b[0;36m<module>\u001b[0;34m\u001b[0m\n\u001b[0;32m----> 1\u001b[0;31m \u001b[0morders_df\u001b[0m\u001b[0;34m.\u001b[0m\u001b[0mdifference\u001b[0m\u001b[0;34m.\u001b[0m\u001b[0mmean\u001b[0m\u001b[0;34m(\u001b[0m\u001b[0;34m)\u001b[0m\u001b[0;34m.\u001b[0m\u001b[0mround\u001b[0m\u001b[0;34m(\u001b[0m\u001b[0;36m2\u001b[0m\u001b[0;34m)\u001b[0m\u001b[0;34m\u001b[0m\u001b[0;34m\u001b[0m\u001b[0m\n\u001b[0m",
            "\u001b[0;31mAttributeError\u001b[0m: 'float' object has no attribute 'round'"
          ]
        }
      ],
      "source": [
        "orders_df.difference.mean().round(2) #AttributeError: 'float' object has no attribute 'round'. Why?"
      ]
    },
    {
      "cell_type": "code",
      "execution_count": 46,
      "metadata": {
        "id": "O4RDNgttJSPD"
      },
      "outputs": [
        {
          "data": {
            "text/plain": [
              "count   43064.00\n",
              "mean        4.45\n",
              "std        25.64\n",
              "min      -165.00\n",
              "25%         0.00\n",
              "50%         4.99\n",
              "75%         6.99\n",
              "max      3984.99\n",
              "Name: difference, dtype: float64"
            ]
          },
          "execution_count": 46,
          "metadata": {},
          "output_type": "execute_result"
        }
      ],
      "source": [
        "# your code here\n",
        "orders_df['difference'].describe()"
      ]
    },
    {
      "cell_type": "markdown",
      "metadata": {
        "id": "NINPK4rB8TSY"
      },
      "source": [
        "### Can all the differences be explained by shipping costs? If not, what are other plausible explanations?"
      ]
    },
    {
      "cell_type": "code",
      "execution_count": null,
      "metadata": {
        "id": "_6GvQ28EJUIf"
      },
      "outputs": [],
      "source": [
        "# your explanation here\n",
        "#calculate the quartiles\n",
        "Q1 = orders_df.difference.quantile(0.25)\n",
        "Q3 = orders_df.difference.quantile(0.75)\n",
        "Q1 #0\n",
        "Q3 #6.99\n",
        "\n",
        "#calculate the interquartile range\n",
        "IQR = Q3 - Q1\n",
        "IQR #6.99\n",
        "\n",
        "#filter out the outliers to include only 'non-outliers'\n",
        "diff_no_ouliers = orders_df[(orders_df.difference >= Q1 - 1.5*IQR) & (orders_df.difference <= Q3 + 1.5*IQR)]\n",
        "diff_no_ouliers"
      ]
    },
    {
      "cell_type": "code",
      "execution_count": 60,
      "metadata": {},
      "outputs": [
        {
          "data": {
            "text/plain": [
              "<AxesSubplot:>"
            ]
          },
          "execution_count": 60,
          "metadata": {},
          "output_type": "execute_result"
        },
        {
          "data": {
            "image/png": "[encoded data removed]",
            "text/plain": [
              "<Figure size 640x480 with 1 Axes>"
            ]
          },
          "metadata": {},
          "output_type": "display_data"
        }
      ],
      "source": [
        "# distribution after outliers removed\n",
        "diff_no_ouliers.difference.hist(bins=20)"
      ]
    },
    {
      "cell_type": "markdown",
      "metadata": {
        "id": "xPos2ipK8VST"
      },
      "source": [
        "### If there are differences that you can’t explain: what should you do with these orders?"
      ]
    },
    {
      "cell_type": "code",
      "execution_count": 61,
      "metadata": {
        "id": "xqeCAJBt8V3T"
      },
      "outputs": [],
      "source": [
        "# remove orders with extrtreme differences\n",
        "normal_diff_list = list(diff_no_ouliers['order_id'])\n"
      ]
    },
    {
      "cell_type": "code",
      "execution_count": null,
      "metadata": {},
      "outputs": [],
      "source": []
    },
    {
      "cell_type": "markdown",
      "metadata": {
        "id": "FWROzNEd8b8d"
      },
      "source": [
        "## 5.&nbsp; Become confident about your dataset"
      ]
    },
    {
      "cell_type": "markdown",
      "metadata": {
        "id": "qkiySvbwldvU"
      },
      "source": [
        "Let's hear your thoughts about what you discovered."
      ]
    },
    {
      "cell_type": "code",
      "execution_count": null,
      "metadata": {
        "id": "AR14cjMpfXV0"
      },
      "outputs": [],
      "source": [
        "# your thoughts & code here"
      ]
    },
    {
      "cell_type": "markdown",
      "metadata": {
        "id": "dvyhnpLcfXdd"
      },
      "source": [
        "Do not forget to download your quality controlled DataFrames"
      ]
    },
    {
      "cell_type": "code",
      "execution_count": null,
      "metadata": {
        "id": "gUcJc1E6sVOl"
      },
      "outputs": [],
      "source": [
        "from google.colab import files\n",
        "\n",
        "#orders_quality_controlled.to_csv(\"orders_qu.csv\", index=False)\n",
        "#files.download(\"orders_qu.csv\")\n",
        "\n",
        "#orderlines_quality_controlled.to_csv(\"orderlines_qu.csv\", index=False)\n",
        "#files.download(\"orderlines_qu.csv\")"
      ]
    },
    {
      "cell_type": "code",
      "execution_count": null,
      "metadata": {},
      "outputs": [],
      "source": [
        "# import csv files from local files\n",
        "# DF_name.to_csv(\"file_name.csv\", index=False)\n",
        "\n",
        "# orders_df.to_csv('orders_df.csv', index=False)\n",
        "# files.download('orders_df.csv')\n",
        "# ol_df.to_csv('ol_df.csv', index=False)"
      ]
    }
  ],
  "metadata": {
    "colab": {
      "collapsed_sections": [
        "CP3XvAdtSh-W",
        "MGfHi2emuFvJ",
        "6LDe4vd8wOJS",
        "G6ZM_Jxl4-UE",
        "aSm5aaRLtFLx",
        "GjQD8WPe6h0i",
        "M0NhTKzF6jV4",
        "EKolLICj68Ai",
        "Ihny8AC97HY9",
        "F-rtzwAn7WyS",
        "bCLu78B07gN1",
        "_d1lwist8F6X",
        "UpynvRcO8QBr",
        "NINPK4rB8TSY",
        "xPos2ipK8VST",
        "FWROzNEd8b8d"
      ],
      "provenance": []
    },
    "kernelspec": {
      "display_name": "Python 3",
      "name": "python3"
    },
    "language_info": {
      "codemirror_mode": {
        "name": "ipython",
        "version": 3
      },
      "file_extension": ".py",
      "mimetype": "text/x-python",
      "name": "python",
      "nbconvert_exporter": "python",
      "pygments_lexer": "ipython3",
      "version": "3.9.13"
    }
  },
  "nbformat": 4,
  "nbformat_minor": 0
}
